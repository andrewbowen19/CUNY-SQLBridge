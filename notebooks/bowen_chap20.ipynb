{
  "cells": [
    {
      "cell_type": "markdown",
      "metadata": {
        "id": "view-in-github",
        "colab_type": "text"
      },
      "source": [
        "<a href=\"https://colab.research.google.com/github/andrewbowen19/CUNY-SQLBridge/blob/main/notebooks/bowen_chap20.ipynb\" target=\"_parent\"><img src=\"https://colab.research.google.com/assets/colab-badge.svg\" alt=\"Open In Colab\"/></a>"
      ]
    },
    {
      "cell_type": "markdown",
      "id": "funded-utilization",
      "metadata": {
        "id": "funded-utilization"
      },
      "source": [
        "# The Empire State Building Strikes Back"
      ]
    },
    {
      "cell_type": "markdown",
      "id": "imported-table",
      "metadata": {
        "tags": [],
        "id": "imported-table"
      },
      "source": [
        "*Modeling and Simulation in Python*\n",
        "\n",
        "Copyright 2021 Allen Downey\n",
        "\n",
        "License: [Creative Commons Attribution-NonCommercial-ShareAlike 4.0 International](https://creativecommons.org/licenses/by-nc-sa/4.0/)"
      ]
    },
    {
      "cell_type": "code",
      "source": [
        "!pip install --q pint\n",
        "!pip install --q modsimpy"
      ],
      "metadata": {
        "id": "Apjg-DN3trlB",
        "colab": {
          "base_uri": "https://localhost:8080/"
        },
        "outputId": "2b8d3cf9-7e54-48cc-c4c2-5de6abb962ff"
      },
      "id": "Apjg-DN3trlB",
      "execution_count": 1,
      "outputs": [
        {
          "output_type": "stream",
          "name": "stdout",
          "text": [
            "\u001b[?25l     \u001b[90m━━━━━━━━━━━━━━━━━━━━━━━━━━━━━━━━━━━━━━━━\u001b[0m \u001b[32m0.0/294.0 kB\u001b[0m \u001b[31m?\u001b[0m eta \u001b[36m-:--:--\u001b[0m\r\u001b[2K     \u001b[90m━━━━━━━━━━━━━━━━━━━━━━━━━━━━━━━━━━━━━━━\u001b[0m \u001b[32m294.0/294.0 kB\u001b[0m \u001b[31m8.6 MB/s\u001b[0m eta \u001b[36m0:00:00\u001b[0m\n",
            "\u001b[?25h  Preparing metadata (setup.py) ... \u001b[?25l\u001b[?25hdone\n",
            "  Building wheel for modsimpy (setup.py) ... \u001b[?25l\u001b[?25hdone\n"
          ]
        }
      ]
    },
    {
      "cell_type": "code",
      "execution_count": 2,
      "id": "electoral-turkey",
      "metadata": {
        "tags": [],
        "id": "electoral-turkey"
      },
      "outputs": [],
      "source": [
        "# install Pint if necessary\n",
        "\n",
        "try:\n",
        "    from pint import UnitRegistry\n",
        "except ImportError:\n",
        "    !pip install pint\n",
        "\n",
        "# import units\n",
        "from pint import UnitRegistry\n",
        "units = UnitRegistry()"
      ]
    },
    {
      "cell_type": "code",
      "execution_count": 3,
      "id": "formal-context",
      "metadata": {
        "tags": [],
        "id": "formal-context",
        "colab": {
          "base_uri": "https://localhost:8080/"
        },
        "outputId": "b8033afc-892c-4c4f-8d53-834f37946108"
      },
      "outputs": [
        {
          "output_type": "stream",
          "name": "stdout",
          "text": [
            "Downloaded modsim.py\n"
          ]
        }
      ],
      "source": [
        "# download modsim.py if necessary\n",
        "\n",
        "from os.path import basename, exists\n",
        "\n",
        "def download(url):\n",
        "    filename = basename(url)\n",
        "    if not exists(filename):\n",
        "        from urllib.request import urlretrieve\n",
        "        local, _ = urlretrieve(url, filename)\n",
        "        print('Downloaded ' + local)\n",
        "\n",
        "download('https://raw.githubusercontent.com/AllenDowney/' +\n",
        "         'ModSimPy/master/modsim.py')"
      ]
    },
    {
      "cell_type": "code",
      "execution_count": 4,
      "id": "progressive-typing",
      "metadata": {
        "tags": [],
        "id": "progressive-typing"
      },
      "outputs": [],
      "source": [
        "# import functions from modsim\n",
        "\n",
        "from modsim import *"
      ]
    },
    {
      "cell_type": "markdown",
      "id": "removable-zoning",
      "metadata": {
        "tags": [],
        "id": "removable-zoning"
      },
      "source": [
        "This chapter is available as a Jupyter notebook where you can read the text, run the code, and work on the exercises.\n",
        "Click here to access the notebooks: <https://allendowney.github.io/ModSimPy/>."
      ]
    },
    {
      "cell_type": "markdown",
      "id": "embedded-gentleman",
      "metadata": {
        "id": "embedded-gentleman"
      },
      "source": [
        "So far the differential equations we've worked with have been *first order*, which means they involve only first derivatives. In this\n",
        "chapter, we turn our attention to *second order* differential equations, which can involve both first and second derivatives.\n",
        "\n",
        "We'll revisit the falling penny example from Chapter 1, and use `run_solve_ivp` to find the position and velocity of the penny as it falls, with and without air resistance."
      ]
    },
    {
      "cell_type": "markdown",
      "id": "isolated-louis",
      "metadata": {
        "id": "isolated-louis"
      },
      "source": [
        "## Newton's Second Law of Motion\n",
        "\n",
        "First order differential equations (DEs) can be written\n",
        "\n",
        "$$\\frac{dy}{dx} = G(x, y)$$\n",
        "\n",
        "where $G$ is some function of $x$ and $y$ (see <http://modsimpy.com/ode>). Second order DEs can be written\n",
        "\n",
        "$$\\frac{d^2y}{dx^2} = H(x, y, \\frac{dy}{dt})$$\n",
        "\n",
        "where $H$ is a function of $x$, $y$, and $dy/dx$.\n",
        "\n",
        "In this chapter, we will work with one of the most famous and useful\n",
        "second order DEs, Newton's second law of motion:\n",
        "\n",
        "$$F = m a$$\n",
        "\n",
        "where $F$ is a force or the total of a set of forces, $m$ is the mass of a moving object, and $a$ is its acceleration."
      ]
    },
    {
      "cell_type": "markdown",
      "id": "drawn-symphony",
      "metadata": {
        "id": "drawn-symphony"
      },
      "source": [
        "Newton's law might not look like a differential equation, until we\n",
        "realize that acceleration, $a$, is the second derivative of position,\n",
        "$y$, with respect to time, $t$. With the substitution\n",
        "\n",
        "$$a = \\frac{d^2y}{dt^2}$$\n",
        "\n",
        "Newton's law can be written\n",
        "\n",
        "$$\\frac{d^2y}{dt^2} = F / m$$\n",
        "\n",
        "And that's definitely a second order DE.\n",
        "In general, $F$ can be a function of time, position, and velocity."
      ]
    },
    {
      "cell_type": "markdown",
      "id": "swiss-vietnam",
      "metadata": {
        "id": "swiss-vietnam"
      },
      "source": [
        "Of course, this \"law\" is really a model in the sense that it is a\n",
        "simplification of the real world. Although it is often approximately\n",
        "true:\n",
        "\n",
        "-   It only applies if $m$ is constant. If mass depends on time,\n",
        "    position, or velocity, we have to use a more general form of\n",
        "    Newton's law (see <http://modsimpy.com/varmass>).\n",
        "\n",
        "-   It is not a good model for very small things, which are better\n",
        "    described by another model, quantum mechanics.\n",
        "\n",
        "-   And it is not a good model for things moving very fast, which are\n",
        "    better described by yet another model, relativistic mechanics.\n",
        "\n",
        "However, for medium-sized things with constant mass, moving at\n",
        "medium-sized speeds, Newton's model is extremely useful. If we can\n",
        "quantify the forces that act on such an object, we can predict how it\n",
        "will move."
      ]
    },
    {
      "cell_type": "markdown",
      "id": "coordinate-three",
      "metadata": {
        "id": "coordinate-three"
      },
      "source": [
        "## Dropping Pennies\n",
        "\n",
        "As a first example, let's get back to the penny falling from the Empire State Building, which we considered in Chapter 1. We will implement two models of this system: first without air resistance, then with.\n",
        "\n",
        "Given that the Empire State Building is 381 m high, and assuming that\n",
        "the penny is dropped from a standstill, the initial conditions are:"
      ]
    },
    {
      "cell_type": "code",
      "execution_count": 5,
      "id": "compatible-increase",
      "metadata": {
        "id": "compatible-increase"
      },
      "outputs": [],
      "source": [
        "init = State(y=381, v=0)"
      ]
    },
    {
      "cell_type": "markdown",
      "id": "intellectual-radiation",
      "metadata": {
        "id": "intellectual-radiation"
      },
      "source": [
        "where `y` is height above the sidewalk and `v` is velocity.\n",
        "\n",
        "I'll put the initial conditions in a `System` object, along with the magnitude of acceleration due to gravity, `g`, and the duration of the simulations, `t_end`."
      ]
    },
    {
      "cell_type": "code",
      "execution_count": 6,
      "id": "reverse-authorization",
      "metadata": {
        "id": "reverse-authorization"
      },
      "outputs": [],
      "source": [
        "system = System(init=init,\n",
        "                g=9.8,\n",
        "                t_end=10)"
      ]
    },
    {
      "cell_type": "markdown",
      "id": "heavy-boards",
      "metadata": {
        "id": "heavy-boards"
      },
      "source": [
        "Now we need a slope function, and here's where things get tricky. As we have seen, `run_solve_ivp` can solve systems of first order DEs, but Newton's law is a second order DE. However, if we recognize that\n",
        "\n",
        "1.  Velocity, $v$, is the derivative of position, $dy/dt$, and\n",
        "\n",
        "2.  Acceleration, $a$, is the derivative of velocity, $dv/dt$,\n",
        "\n",
        "we can rewrite Newton's law as a system of first order ODEs:\n",
        "\n",
        "$$\\frac{dy}{dt} = v$$\n",
        "\n",
        "$$\\frac{dv}{dt} = a$$\n",
        "\n",
        "And we can translate those\n",
        "equations into a slope function:"
      ]
    },
    {
      "cell_type": "code",
      "execution_count": 7,
      "id": "occupied-mercury",
      "metadata": {
        "id": "occupied-mercury"
      },
      "outputs": [],
      "source": [
        "def slope_func(t, state, system):\n",
        "    y, v = state\n",
        "\n",
        "    dydt = v\n",
        "    dvdt = -system.g\n",
        "\n",
        "    return dydt, dvdt"
      ]
    },
    {
      "cell_type": "markdown",
      "id": "opening-adolescent",
      "metadata": {
        "id": "opening-adolescent"
      },
      "source": [
        "As usual, the parameters are a time stamp, a `State` object, and a `System` object.\n",
        "\n",
        "The first line unpacks the state variables, `y` and `v`.\n",
        "\n",
        "The next two lines compute the derivatives of the state variables, `dydt` and `dvdt`.\n",
        "The derivative of position is velocity, and the derivative of velocity is acceleration.\n",
        "In this case, $a = -g$, which indicates that acceleration due to gravity is in the direction of decreasing $y$.\n",
        "\n",
        "`slope_func` returns a sequence containing the two derivatives.\n",
        "\n",
        "Before calling `run_solve_ivp`, it is a good idea to test the slope\n",
        "function with the initial conditions:"
      ]
    },
    {
      "cell_type": "code",
      "execution_count": 8,
      "id": "positive-feeling",
      "metadata": {
        "id": "positive-feeling",
        "colab": {
          "base_uri": "https://localhost:8080/"
        },
        "outputId": "e7bf62e7-a397-492f-a022-dfac4e242c5d"
      },
      "outputs": [
        {
          "output_type": "execute_result",
          "data": {
            "text/plain": [
              "(0, -9.8)"
            ]
          },
          "metadata": {},
          "execution_count": 8
        }
      ],
      "source": [
        "dydt, dvdt = slope_func(0, system.init, system)\n",
        "dydt, dvdt"
      ]
    },
    {
      "cell_type": "markdown",
      "id": "false-charlotte",
      "metadata": {
        "id": "false-charlotte"
      },
      "source": [
        "The result is 0 m/s for velocity and -9.8 m/s$^2$ for acceleration.\n",
        "\n",
        "Now we call `run_solve_ivp` like this:"
      ]
    },
    {
      "cell_type": "code",
      "execution_count": 9,
      "id": "lovely-management",
      "metadata": {
        "id": "lovely-management",
        "colab": {
          "base_uri": "https://localhost:8080/",
          "height": 35
        },
        "outputId": "cdcfc7f8-5acd-48ee-f85c-c589755bc35e"
      },
      "outputs": [
        {
          "output_type": "execute_result",
          "data": {
            "text/plain": [
              "'The solver successfully reached the end of the integration interval.'"
            ],
            "application/vnd.google.colaboratory.intrinsic+json": {
              "type": "string"
            }
          },
          "metadata": {},
          "execution_count": 9
        }
      ],
      "source": [
        "results, details = run_solve_ivp(system, slope_func)\n",
        "details.message"
      ]
    },
    {
      "cell_type": "markdown",
      "id": "ranging-lingerie",
      "metadata": {
        "id": "ranging-lingerie"
      },
      "source": [
        "`results` is a `TimeFrame` with two columns: `y` contains the height of the penny; `v` contains its velocity.\n",
        "Here are the first few rows."
      ]
    },
    {
      "cell_type": "code",
      "execution_count": 10,
      "id": "assisted-swimming",
      "metadata": {
        "id": "assisted-swimming",
        "colab": {
          "base_uri": "https://localhost:8080/",
          "height": 204
        },
        "outputId": "a8683064-8d98-4f92-d37e-b76de5e53cd0"
      },
      "outputs": [
        {
          "output_type": "execute_result",
          "data": {
            "text/plain": [
              "           y     v\n",
              "0.0  381.000  0.00\n",
              "0.1  380.951 -0.98\n",
              "0.2  380.804 -1.96\n",
              "0.3  380.559 -2.94\n",
              "0.4  380.216 -3.92"
            ],
            "text/html": [
              "\n",
              "\n",
              "  <div id=\"df-5a5214eb-490d-43cb-a4f5-cdcb2e1ae201\">\n",
              "    <div class=\"colab-df-container\">\n",
              "      <div>\n",
              "<style scoped>\n",
              "    .dataframe tbody tr th:only-of-type {\n",
              "        vertical-align: middle;\n",
              "    }\n",
              "\n",
              "    .dataframe tbody tr th {\n",
              "        vertical-align: top;\n",
              "    }\n",
              "\n",
              "    .dataframe thead th {\n",
              "        text-align: right;\n",
              "    }\n",
              "</style>\n",
              "<table border=\"1\" class=\"dataframe\">\n",
              "  <thead>\n",
              "    <tr style=\"text-align: right;\">\n",
              "      <th></th>\n",
              "      <th>y</th>\n",
              "      <th>v</th>\n",
              "    </tr>\n",
              "  </thead>\n",
              "  <tbody>\n",
              "    <tr>\n",
              "      <th>0.0</th>\n",
              "      <td>381.000</td>\n",
              "      <td>0.00</td>\n",
              "    </tr>\n",
              "    <tr>\n",
              "      <th>0.1</th>\n",
              "      <td>380.951</td>\n",
              "      <td>-0.98</td>\n",
              "    </tr>\n",
              "    <tr>\n",
              "      <th>0.2</th>\n",
              "      <td>380.804</td>\n",
              "      <td>-1.96</td>\n",
              "    </tr>\n",
              "    <tr>\n",
              "      <th>0.3</th>\n",
              "      <td>380.559</td>\n",
              "      <td>-2.94</td>\n",
              "    </tr>\n",
              "    <tr>\n",
              "      <th>0.4</th>\n",
              "      <td>380.216</td>\n",
              "      <td>-3.92</td>\n",
              "    </tr>\n",
              "  </tbody>\n",
              "</table>\n",
              "</div>\n",
              "      <button class=\"colab-df-convert\" onclick=\"convertToInteractive('df-5a5214eb-490d-43cb-a4f5-cdcb2e1ae201')\"\n",
              "              title=\"Convert this dataframe to an interactive table.\"\n",
              "              style=\"display:none;\">\n",
              "\n",
              "  <svg xmlns=\"http://www.w3.org/2000/svg\" height=\"24px\"viewBox=\"0 0 24 24\"\n",
              "       width=\"24px\">\n",
              "    <path d=\"M0 0h24v24H0V0z\" fill=\"none\"/>\n",
              "    <path d=\"M18.56 5.44l.94 2.06.94-2.06 2.06-.94-2.06-.94-.94-2.06-.94 2.06-2.06.94zm-11 1L8.5 8.5l.94-2.06 2.06-.94-2.06-.94L8.5 2.5l-.94 2.06-2.06.94zm10 10l.94 2.06.94-2.06 2.06-.94-2.06-.94-.94-2.06-.94 2.06-2.06.94z\"/><path d=\"M17.41 7.96l-1.37-1.37c-.4-.4-.92-.59-1.43-.59-.52 0-1.04.2-1.43.59L10.3 9.45l-7.72 7.72c-.78.78-.78 2.05 0 2.83L4 21.41c.39.39.9.59 1.41.59.51 0 1.02-.2 1.41-.59l7.78-7.78 2.81-2.81c.8-.78.8-2.07 0-2.86zM5.41 20L4 18.59l7.72-7.72 1.47 1.35L5.41 20z\"/>\n",
              "  </svg>\n",
              "      </button>\n",
              "\n",
              "\n",
              "\n",
              "    <div id=\"df-1ad68f49-e960-4eb3-9ca5-d5395852334f\">\n",
              "      <button class=\"colab-df-quickchart\" onclick=\"quickchart('df-1ad68f49-e960-4eb3-9ca5-d5395852334f')\"\n",
              "              title=\"Suggest charts.\"\n",
              "              style=\"display:none;\">\n",
              "\n",
              "<svg xmlns=\"http://www.w3.org/2000/svg\" height=\"24px\"viewBox=\"0 0 24 24\"\n",
              "     width=\"24px\">\n",
              "    <g>\n",
              "        <path d=\"M19 3H5c-1.1 0-2 .9-2 2v14c0 1.1.9 2 2 2h14c1.1 0 2-.9 2-2V5c0-1.1-.9-2-2-2zM9 17H7v-7h2v7zm4 0h-2V7h2v10zm4 0h-2v-4h2v4z\"/>\n",
              "    </g>\n",
              "</svg>\n",
              "      </button>\n",
              "    </div>\n",
              "\n",
              "<style>\n",
              "  .colab-df-quickchart {\n",
              "    background-color: #E8F0FE;\n",
              "    border: none;\n",
              "    border-radius: 50%;\n",
              "    cursor: pointer;\n",
              "    display: none;\n",
              "    fill: #1967D2;\n",
              "    height: 32px;\n",
              "    padding: 0 0 0 0;\n",
              "    width: 32px;\n",
              "  }\n",
              "\n",
              "  .colab-df-quickchart:hover {\n",
              "    background-color: #E2EBFA;\n",
              "    box-shadow: 0px 1px 2px rgba(60, 64, 67, 0.3), 0px 1px 3px 1px rgba(60, 64, 67, 0.15);\n",
              "    fill: #174EA6;\n",
              "  }\n",
              "\n",
              "  [theme=dark] .colab-df-quickchart {\n",
              "    background-color: #3B4455;\n",
              "    fill: #D2E3FC;\n",
              "  }\n",
              "\n",
              "  [theme=dark] .colab-df-quickchart:hover {\n",
              "    background-color: #434B5C;\n",
              "    box-shadow: 0px 1px 3px 1px rgba(0, 0, 0, 0.15);\n",
              "    filter: drop-shadow(0px 1px 2px rgba(0, 0, 0, 0.3));\n",
              "    fill: #FFFFFF;\n",
              "  }\n",
              "</style>\n",
              "\n",
              "    <script>\n",
              "      async function quickchart(key) {\n",
              "        const containerElement = document.querySelector('#' + key);\n",
              "        const charts = await google.colab.kernel.invokeFunction(\n",
              "            'suggestCharts', [key], {});\n",
              "      }\n",
              "    </script>\n",
              "\n",
              "      <script>\n",
              "\n",
              "function displayQuickchartButton(domScope) {\n",
              "  let quickchartButtonEl =\n",
              "    domScope.querySelector('#df-1ad68f49-e960-4eb3-9ca5-d5395852334f button.colab-df-quickchart');\n",
              "  quickchartButtonEl.style.display =\n",
              "    google.colab.kernel.accessAllowed ? 'block' : 'none';\n",
              "}\n",
              "\n",
              "        displayQuickchartButton(document);\n",
              "      </script>\n",
              "      <style>\n",
              "    .colab-df-container {\n",
              "      display:flex;\n",
              "      flex-wrap:wrap;\n",
              "      gap: 12px;\n",
              "    }\n",
              "\n",
              "    .colab-df-convert {\n",
              "      background-color: #E8F0FE;\n",
              "      border: none;\n",
              "      border-radius: 50%;\n",
              "      cursor: pointer;\n",
              "      display: none;\n",
              "      fill: #1967D2;\n",
              "      height: 32px;\n",
              "      padding: 0 0 0 0;\n",
              "      width: 32px;\n",
              "    }\n",
              "\n",
              "    .colab-df-convert:hover {\n",
              "      background-color: #E2EBFA;\n",
              "      box-shadow: 0px 1px 2px rgba(60, 64, 67, 0.3), 0px 1px 3px 1px rgba(60, 64, 67, 0.15);\n",
              "      fill: #174EA6;\n",
              "    }\n",
              "\n",
              "    [theme=dark] .colab-df-convert {\n",
              "      background-color: #3B4455;\n",
              "      fill: #D2E3FC;\n",
              "    }\n",
              "\n",
              "    [theme=dark] .colab-df-convert:hover {\n",
              "      background-color: #434B5C;\n",
              "      box-shadow: 0px 1px 3px 1px rgba(0, 0, 0, 0.15);\n",
              "      filter: drop-shadow(0px 1px 2px rgba(0, 0, 0, 0.3));\n",
              "      fill: #FFFFFF;\n",
              "    }\n",
              "  </style>\n",
              "\n",
              "      <script>\n",
              "        const buttonEl =\n",
              "          document.querySelector('#df-5a5214eb-490d-43cb-a4f5-cdcb2e1ae201 button.colab-df-convert');\n",
              "        buttonEl.style.display =\n",
              "          google.colab.kernel.accessAllowed ? 'block' : 'none';\n",
              "\n",
              "        async function convertToInteractive(key) {\n",
              "          const element = document.querySelector('#df-5a5214eb-490d-43cb-a4f5-cdcb2e1ae201');\n",
              "          const dataTable =\n",
              "            await google.colab.kernel.invokeFunction('convertToInteractive',\n",
              "                                                     [key], {});\n",
              "          if (!dataTable) return;\n",
              "\n",
              "          const docLinkHtml = 'Like what you see? Visit the ' +\n",
              "            '<a target=\"_blank\" href=https://colab.research.google.com/notebooks/data_table.ipynb>data table notebook</a>'\n",
              "            + ' to learn more about interactive tables.';\n",
              "          element.innerHTML = '';\n",
              "          dataTable['output_type'] = 'display_data';\n",
              "          await google.colab.output.renderOutput(dataTable, element);\n",
              "          const docLink = document.createElement('div');\n",
              "          docLink.innerHTML = docLinkHtml;\n",
              "          element.appendChild(docLink);\n",
              "        }\n",
              "      </script>\n",
              "    </div>\n",
              "  </div>\n"
            ]
          },
          "metadata": {},
          "execution_count": 10
        }
      ],
      "source": [
        "results.head()"
      ]
    },
    {
      "cell_type": "markdown",
      "id": "solved-chambers",
      "metadata": {
        "id": "solved-chambers"
      },
      "source": [
        "We can plot the results like this:"
      ]
    },
    {
      "cell_type": "code",
      "execution_count": 11,
      "id": "authorized-barrier",
      "metadata": {
        "id": "authorized-barrier",
        "colab": {
          "base_uri": "https://localhost:8080/",
          "height": 309
        },
        "outputId": "49d48246-10f6-460d-8343-e252064e06a8"
      },
      "outputs": [
        {
          "output_type": "display_data",
          "data": {
            "text/plain": [
              "<Figure size 450x300 with 1 Axes>"
            ],
            "image/png": "[encoded data removed]"
          },
          "metadata": {}
        }
      ],
      "source": [
        "results.y.plot()\n",
        "\n",
        "decorate(xlabel='Time (s)',\n",
        "         ylabel='Position (m)')"
      ]
    },
    {
      "cell_type": "markdown",
      "id": "differential-airfare",
      "metadata": {
        "id": "differential-airfare"
      },
      "source": [
        "Since acceleration is constant, velocity increases linearly and position decreases quadratically; as a result, the height curve is a parabola.\n",
        "\n",
        "The last value of `results.y` is negative, which means we ran the simulation too long."
      ]
    },
    {
      "cell_type": "code",
      "execution_count": 12,
      "id": "protected-fiber",
      "metadata": {
        "id": "protected-fiber",
        "colab": {
          "base_uri": "https://localhost:8080/"
        },
        "outputId": "d1e524a0-923b-4f25-f63d-08fa30766b6e"
      },
      "outputs": [
        {
          "output_type": "execute_result",
          "data": {
            "text/plain": [
              "-108.99999999999983"
            ]
          },
          "metadata": {},
          "execution_count": 12
        }
      ],
      "source": [
        "results.iloc[-1].y"
      ]
    },
    {
      "cell_type": "markdown",
      "id": "metallic-tamil",
      "metadata": {
        "id": "metallic-tamil"
      },
      "source": [
        "One way to solve this problem is to use the results to\n",
        "estimate the time when the penny hits the sidewalk.\n",
        "\n",
        "The ModSim library provides `crossings`, which takes a `TimeSeries` and a value, and returns a sequence of times when the series passes through the value. We can find the time when the height of the penny is `0` like this:"
      ]
    },
    {
      "cell_type": "code",
      "execution_count": 13,
      "id": "japanese-clear",
      "metadata": {
        "id": "japanese-clear",
        "colab": {
          "base_uri": "https://localhost:8080/"
        },
        "outputId": "edc57c8f-41be-4a24-f0a2-4f695a0e3aed"
      },
      "outputs": [
        {
          "output_type": "execute_result",
          "data": {
            "text/plain": [
              "array([8.81788535])"
            ]
          },
          "metadata": {},
          "execution_count": 13
        }
      ],
      "source": [
        "t_crossings = crossings(results.y, 0)\n",
        "t_crossings"
      ]
    },
    {
      "cell_type": "markdown",
      "id": "demonstrated-emission",
      "metadata": {
        "id": "demonstrated-emission"
      },
      "source": [
        "The result is an array with a single value, 8.818 s. Now, we could run\n",
        "the simulation again with `t_end = 8.818`, but there's a better way."
      ]
    },
    {
      "cell_type": "markdown",
      "id": "blind-dominant",
      "metadata": {
        "id": "blind-dominant"
      },
      "source": [
        "## Events\n",
        "\n",
        "As an option, `run_solve_ivp` can take an *event function*, which\n",
        "detects an \"event\", like the penny hitting the sidewalk, and ends the\n",
        "simulation.\n",
        "\n",
        "Event functions take the same parameters as slope functions, `t`, `state`, and `system`. They should return a value that passes through `0` when the event occurs. Here's an event function that detects the penny hitting the sidewalk:"
      ]
    },
    {
      "cell_type": "code",
      "execution_count": 14,
      "id": "comfortable-simple",
      "metadata": {
        "id": "comfortable-simple"
      },
      "outputs": [],
      "source": [
        "def event_func(t, state, system):\n",
        "    y, v = state\n",
        "    return y"
      ]
    },
    {
      "cell_type": "markdown",
      "id": "closing-vehicle",
      "metadata": {
        "id": "closing-vehicle"
      },
      "source": [
        "The return value is the height of the penny, `y`, which passes through\n",
        "`0` when the penny hits the sidewalk.\n",
        "\n",
        "We pass the event function to `run_solve_ivp` like this:"
      ]
    },
    {
      "cell_type": "code",
      "execution_count": 15,
      "id": "exotic-shareware",
      "metadata": {
        "id": "exotic-shareware",
        "colab": {
          "base_uri": "https://localhost:8080/",
          "height": 35
        },
        "outputId": "395023c7-ff74-49e1-9aac-a5f6be75fa9f"
      },
      "outputs": [
        {
          "output_type": "execute_result",
          "data": {
            "text/plain": [
              "'A termination event occurred.'"
            ],
            "application/vnd.google.colaboratory.intrinsic+json": {
              "type": "string"
            }
          },
          "metadata": {},
          "execution_count": 15
        }
      ],
      "source": [
        "results, details = run_solve_ivp(system, slope_func,\n",
        "                                 events=event_func)\n",
        "details.message"
      ]
    },
    {
      "cell_type": "markdown",
      "id": "recreational-blair",
      "metadata": {
        "id": "recreational-blair"
      },
      "source": [
        "Then we can get the flight time like this:"
      ]
    },
    {
      "cell_type": "code",
      "execution_count": 16,
      "id": "appropriate-roberts",
      "metadata": {
        "id": "appropriate-roberts",
        "colab": {
          "base_uri": "https://localhost:8080/"
        },
        "outputId": "81fbbad4-75f7-4a65-a987-68039f21099c"
      },
      "outputs": [
        {
          "output_type": "execute_result",
          "data": {
            "text/plain": [
              "8.817885349720553"
            ]
          },
          "metadata": {},
          "execution_count": 16
        }
      ],
      "source": [
        "t_end = results.index[-1]\n",
        "t_end"
      ]
    },
    {
      "cell_type": "markdown",
      "id": "pediatric-portal",
      "metadata": {
        "id": "pediatric-portal"
      },
      "source": [
        "And the final velocity like this:"
      ]
    },
    {
      "cell_type": "code",
      "execution_count": 17,
      "id": "orange-retro",
      "metadata": {
        "id": "orange-retro",
        "colab": {
          "base_uri": "https://localhost:8080/"
        },
        "outputId": "48034001-ae90-47e3-9b21-75d3317659a8"
      },
      "outputs": [
        {
          "output_type": "execute_result",
          "data": {
            "text/plain": [
              "(0.0, -86.41527642726145)"
            ]
          },
          "metadata": {},
          "execution_count": 17
        }
      ],
      "source": [
        "y, v = results.iloc[-1]\n",
        "y, v"
      ]
    },
    {
      "cell_type": "markdown",
      "id": "cleared-jamaica",
      "metadata": {
        "id": "cleared-jamaica"
      },
      "source": [
        "If there were no air resistance, the penny would hit the sidewalk (or someone's head) at about 86 m/s. So it's a good thing there is air resistance."
      ]
    },
    {
      "cell_type": "markdown",
      "id": "induced-albert",
      "metadata": {
        "id": "induced-albert"
      },
      "source": [
        "## Summary\n",
        "\n",
        "In this chapter, we wrote Newton's second law, which is a second order DE, as a system of first order DEs.\n",
        "Then we used `run_solve_ivp` to simulate a penny dropping from the Empire State Building in the absence of air resistance.\n",
        "And we used an event function to stop the simulation when the penny reaches the sidewalk.\n",
        "\n",
        "In the next chapter we'll add air resistance to the model.\n",
        "But first you might want to work on this exercise."
      ]
    },
    {
      "cell_type": "markdown",
      "id": "straight-johns",
      "metadata": {
        "id": "straight-johns"
      },
      "source": [
        "### Exercise 1\n",
        "\n",
        "Here's a question from the web site *Ask an Astronomer* (see http://curious.astro.cornell.edu/about-us/39-our-solar-system/the-earth/other-catastrophes/57-how-long-would-it-take-the-earth-to-fall-into-the-sun-intermediate):\n",
        "\n",
        "> \"If the Earth suddenly stopped orbiting the Sun, I know eventually it would be pulled in by the Sun's gravity and hit it. How long would it take the Earth to hit the Sun? I imagine it would go slowly at first and then pick up speed.\"\n",
        "\n",
        "Use `run_solve_ivp` to answer this question.\n",
        "\n",
        "Here are some suggestions about how to proceed:\n",
        "\n",
        "1.  Look up the Law of Universal Gravitation and any constants you need.  I suggest you work entirely in SI units: meters, kilograms, and Newtons.\n",
        "\n",
        "2.  When the distance between the Earth and the Sun gets small, this system behaves badly, so you should use an event function to stop when the surface of Earth reaches the surface of the Sun.\n",
        "\n",
        "3. Express your answer in days, and plot the results as millions of kilometers versus days.\n",
        "\n",
        "If you read the reply by Dave Rothstein, you will see other ways to solve the problem, and a good discussion of the modeling decisions behind them.\n",
        "\n",
        "You might also be interested to know that it's not that easy to get to the Sun; see https://www.theatlantic.com/science/archive/2018/08/parker-solar-probe-launch-nasa/567197/."
      ]
    },
    {
      "cell_type": "code",
      "execution_count": 46,
      "id": "forbidden-distributor",
      "metadata": {
        "id": "forbidden-distributor"
      },
      "outputs": [],
      "source": [
        "# Initialize system\n",
        "# https://www.google.com/search?client=safari&rls=en&q=how+many+meters+to+sun&ie=UTF-8&oe=UTF-8\n",
        "init = State(distance=149597870700, v_0=0)\n",
        "\n",
        "\n",
        "# Treat sun and earth as point masses\n",
        "t_end = 1e7  # seconds\n",
        "G = 6.674e-11\n",
        "\n",
        "radius_sun = 10e7\n",
        "radius_earth = 6371000\n",
        "system = System(init=init,\n",
        "                G=G,   # N m^2 / kg^2\n",
        "                m1=1.989e30,   # kg\n",
        "                m2=5.972e24,   # kg\n",
        "                r_final=radius_sun + radius_earth,\n",
        "                t_end=t_end)"
      ]
    },
    {
      "cell_type": "code",
      "execution_count": 47,
      "id": "former-taxation",
      "metadata": {
        "id": "former-taxation"
      },
      "outputs": [],
      "source": [
        "# Solution goes here\n",
        "def gravitational_force(m1, m2, r):\n",
        "  \"\"\"Calculate the gravitational force between masses m1 and m2 at radius r\"\"\"\n",
        "  return G * m1 * m2 / (r**2)"
      ]
    },
    {
      "cell_type": "code",
      "execution_count": 50,
      "id": "oriental-riverside",
      "metadata": {
        "id": "oriental-riverside"
      },
      "outputs": [],
      "source": [
        "# Solution goes here\n",
        "def slope_func2(t, state, system):\n",
        "  m2 = system.m2\n",
        "  f_g = gravitational_force(system.m1, m2, system.r_final)\n",
        "  dvdt = -f_g / m2 # rewritten form of Newton's 2ns law\n",
        "  dydt = state[1]\n",
        "\n",
        "  return dydt, dvdt\n"
      ]
    },
    {
      "cell_type": "code",
      "execution_count": 45,
      "id": "heavy-cologne",
      "metadata": {
        "id": "heavy-cologne",
        "colab": {
          "base_uri": "https://localhost:8080/"
        },
        "outputId": "29291022-f402-4b4e-965a-2dfe9a603417"
      },
      "outputs": [
        {
          "output_type": "stream",
          "name": "stdout",
          "text": [
            "Help on function run_solve_ivp in module modsim:\n",
            "\n",
            "run_solve_ivp(system, slope_func, **options)\n",
            "    Computes a numerical solution to a differential equation.\n",
            "    \n",
            "    `system` must contain `init` with initial conditions,\n",
            "    `t_end` with the end time.  Optionally, it can contain\n",
            "    `t_0` with the start time.\n",
            "    \n",
            "    It should contain any other parameters required by the\n",
            "    slope function.\n",
            "    \n",
            "    `options` can be any legal options of `scipy.integrate.solve_ivp`\n",
            "    \n",
            "    system: System object\n",
            "    slope_func: function that computes slopes\n",
            "    \n",
            "    returns: TimeFrame\n",
            "\n"
          ]
        }
      ],
      "source": [
        "# Solution goes here\n",
        "help(run_solve_ivp)"
      ]
    },
    {
      "cell_type": "code",
      "execution_count": 57,
      "id": "continental-details",
      "metadata": {
        "id": "continental-details"
      },
      "outputs": [],
      "source": [
        "# We also will need to define an event function\n",
        "def event_func2(t, state, system):\n",
        "    r, v = state\n",
        "    return r - system.r_final"
      ]
    },
    {
      "cell_type": "code",
      "execution_count": 60,
      "id": "suitable-traveler",
      "metadata": {
        "id": "suitable-traveler",
        "colab": {
          "base_uri": "https://localhost:8080/",
          "height": 473
        },
        "outputId": "692f13ac-fd29-4ce5-81d1-f963c046b8c3"
      },
      "outputs": [
        {
          "output_type": "stream",
          "name": "stderr",
          "text": [
            "/usr/local/lib/python3.10/dist-packages/scipy/integrate/_ivp/common.py:39: UserWarning: The following arguments have no effect for a chosen solver: `event_func`.\n",
            "  warn(\"The following arguments have no effect for a chosen solver: {}.\"\n"
          ]
        },
        {
          "output_type": "execute_result",
          "data": {
            "text/plain": [
              "                distance           v_0\n",
              "0.0         1.495979e+11  0.000000e+00\n",
              "100000.0   -5.851073e+13 -1.173207e+09\n",
              "200000.0   -2.344917e+14 -2.346413e+09\n",
              "300000.0   -5.277934e+14 -3.519620e+09\n",
              "400000.0   -9.384157e+14 -4.692826e+09\n",
              "...                  ...           ...\n",
              "9600000.0  -5.406135e+17 -1.126278e+11\n",
              "9700000.0  -5.519349e+17 -1.138010e+11\n",
              "9800000.0  -5.633737e+17 -1.149742e+11\n",
              "9900000.0  -5.749297e+17 -1.161475e+11\n",
              "10000000.0 -5.866032e+17 -1.173207e+11\n",
              "\n",
              "[101 rows x 2 columns]"
            ],
            "text/html": [
              "\n",
              "\n",
              "  <div id=\"df-38d3ddc6-7452-4e71-b9c2-6bba906da3cb\">\n",
              "    <div class=\"colab-df-container\">\n",
              "      <div>\n",
              "<style scoped>\n",
              "    .dataframe tbody tr th:only-of-type {\n",
              "        vertical-align: middle;\n",
              "    }\n",
              "\n",
              "    .dataframe tbody tr th {\n",
              "        vertical-align: top;\n",
              "    }\n",
              "\n",
              "    .dataframe thead th {\n",
              "        text-align: right;\n",
              "    }\n",
              "</style>\n",
              "<table border=\"1\" class=\"dataframe\">\n",
              "  <thead>\n",
              "    <tr style=\"text-align: right;\">\n",
              "      <th></th>\n",
              "      <th>distance</th>\n",
              "      <th>v_0</th>\n",
              "    </tr>\n",
              "  </thead>\n",
              "  <tbody>\n",
              "    <tr>\n",
              "      <th>0.0</th>\n",
              "      <td>1.495979e+11</td>\n",
              "      <td>0.000000e+00</td>\n",
              "    </tr>\n",
              "    <tr>\n",
              "      <th>100000.0</th>\n",
              "      <td>-5.851073e+13</td>\n",
              "      <td>-1.173207e+09</td>\n",
              "    </tr>\n",
              "    <tr>\n",
              "      <th>200000.0</th>\n",
              "      <td>-2.344917e+14</td>\n",
              "      <td>-2.346413e+09</td>\n",
              "    </tr>\n",
              "    <tr>\n",
              "      <th>300000.0</th>\n",
              "      <td>-5.277934e+14</td>\n",
              "      <td>-3.519620e+09</td>\n",
              "    </tr>\n",
              "    <tr>\n",
              "      <th>400000.0</th>\n",
              "      <td>-9.384157e+14</td>\n",
              "      <td>-4.692826e+09</td>\n",
              "    </tr>\n",
              "    <tr>\n",
              "      <th>...</th>\n",
              "      <td>...</td>\n",
              "      <td>...</td>\n",
              "    </tr>\n",
              "    <tr>\n",
              "      <th>9600000.0</th>\n",
              "      <td>-5.406135e+17</td>\n",
              "      <td>-1.126278e+11</td>\n",
              "    </tr>\n",
              "    <tr>\n",
              "      <th>9700000.0</th>\n",
              "      <td>-5.519349e+17</td>\n",
              "      <td>-1.138010e+11</td>\n",
              "    </tr>\n",
              "    <tr>\n",
              "      <th>9800000.0</th>\n",
              "      <td>-5.633737e+17</td>\n",
              "      <td>-1.149742e+11</td>\n",
              "    </tr>\n",
              "    <tr>\n",
              "      <th>9900000.0</th>\n",
              "      <td>-5.749297e+17</td>\n",
              "      <td>-1.161475e+11</td>\n",
              "    </tr>\n",
              "    <tr>\n",
              "      <th>10000000.0</th>\n",
              "      <td>-5.866032e+17</td>\n",
              "      <td>-1.173207e+11</td>\n",
              "    </tr>\n",
              "  </tbody>\n",
              "</table>\n",
              "<p>101 rows × 2 columns</p>\n",
              "</div>\n",
              "      <button class=\"colab-df-convert\" onclick=\"convertToInteractive('df-38d3ddc6-7452-4e71-b9c2-6bba906da3cb')\"\n",
              "              title=\"Convert this dataframe to an interactive table.\"\n",
              "              style=\"display:none;\">\n",
              "\n",
              "  <svg xmlns=\"http://www.w3.org/2000/svg\" height=\"24px\"viewBox=\"0 0 24 24\"\n",
              "       width=\"24px\">\n",
              "    <path d=\"M0 0h24v24H0V0z\" fill=\"none\"/>\n",
              "    <path d=\"M18.56 5.44l.94 2.06.94-2.06 2.06-.94-2.06-.94-.94-2.06-.94 2.06-2.06.94zm-11 1L8.5 8.5l.94-2.06 2.06-.94-2.06-.94L8.5 2.5l-.94 2.06-2.06.94zm10 10l.94 2.06.94-2.06 2.06-.94-2.06-.94-.94-2.06-.94 2.06-2.06.94z\"/><path d=\"M17.41 7.96l-1.37-1.37c-.4-.4-.92-.59-1.43-.59-.52 0-1.04.2-1.43.59L10.3 9.45l-7.72 7.72c-.78.78-.78 2.05 0 2.83L4 21.41c.39.39.9.59 1.41.59.51 0 1.02-.2 1.41-.59l7.78-7.78 2.81-2.81c.8-.78.8-2.07 0-2.86zM5.41 20L4 18.59l7.72-7.72 1.47 1.35L5.41 20z\"/>\n",
              "  </svg>\n",
              "      </button>\n",
              "\n",
              "\n",
              "\n",
              "    <div id=\"df-80a9f54a-f905-4bd2-a0d4-66ef27ff951c\">\n",
              "      <button class=\"colab-df-quickchart\" onclick=\"quickchart('df-80a9f54a-f905-4bd2-a0d4-66ef27ff951c')\"\n",
              "              title=\"Suggest charts.\"\n",
              "              style=\"display:none;\">\n",
              "\n",
              "<svg xmlns=\"http://www.w3.org/2000/svg\" height=\"24px\"viewBox=\"0 0 24 24\"\n",
              "     width=\"24px\">\n",
              "    <g>\n",
              "        <path d=\"M19 3H5c-1.1 0-2 .9-2 2v14c0 1.1.9 2 2 2h14c1.1 0 2-.9 2-2V5c0-1.1-.9-2-2-2zM9 17H7v-7h2v7zm4 0h-2V7h2v10zm4 0h-2v-4h2v4z\"/>\n",
              "    </g>\n",
              "</svg>\n",
              "      </button>\n",
              "    </div>\n",
              "\n",
              "<style>\n",
              "  .colab-df-quickchart {\n",
              "    background-color: #E8F0FE;\n",
              "    border: none;\n",
              "    border-radius: 50%;\n",
              "    cursor: pointer;\n",
              "    display: none;\n",
              "    fill: #1967D2;\n",
              "    height: 32px;\n",
              "    padding: 0 0 0 0;\n",
              "    width: 32px;\n",
              "  }\n",
              "\n",
              "  .colab-df-quickchart:hover {\n",
              "    background-color: #E2EBFA;\n",
              "    box-shadow: 0px 1px 2px rgba(60, 64, 67, 0.3), 0px 1px 3px 1px rgba(60, 64, 67, 0.15);\n",
              "    fill: #174EA6;\n",
              "  }\n",
              "\n",
              "  [theme=dark] .colab-df-quickchart {\n",
              "    background-color: #3B4455;\n",
              "    fill: #D2E3FC;\n",
              "  }\n",
              "\n",
              "  [theme=dark] .colab-df-quickchart:hover {\n",
              "    background-color: #434B5C;\n",
              "    box-shadow: 0px 1px 3px 1px rgba(0, 0, 0, 0.15);\n",
              "    filter: drop-shadow(0px 1px 2px rgba(0, 0, 0, 0.3));\n",
              "    fill: #FFFFFF;\n",
              "  }\n",
              "</style>\n",
              "\n",
              "    <script>\n",
              "      async function quickchart(key) {\n",
              "        const containerElement = document.querySelector('#' + key);\n",
              "        const charts = await google.colab.kernel.invokeFunction(\n",
              "            'suggestCharts', [key], {});\n",
              "      }\n",
              "    </script>\n",
              "\n",
              "      <script>\n",
              "\n",
              "function displayQuickchartButton(domScope) {\n",
              "  let quickchartButtonEl =\n",
              "    domScope.querySelector('#df-80a9f54a-f905-4bd2-a0d4-66ef27ff951c button.colab-df-quickchart');\n",
              "  quickchartButtonEl.style.display =\n",
              "    google.colab.kernel.accessAllowed ? 'block' : 'none';\n",
              "}\n",
              "\n",
              "        displayQuickchartButton(document);\n",
              "      </script>\n",
              "      <style>\n",
              "    .colab-df-container {\n",
              "      display:flex;\n",
              "      flex-wrap:wrap;\n",
              "      gap: 12px;\n",
              "    }\n",
              "\n",
              "    .colab-df-convert {\n",
              "      background-color: #E8F0FE;\n",
              "      border: none;\n",
              "      border-radius: 50%;\n",
              "      cursor: pointer;\n",
              "      display: none;\n",
              "      fill: #1967D2;\n",
              "      height: 32px;\n",
              "      padding: 0 0 0 0;\n",
              "      width: 32px;\n",
              "    }\n",
              "\n",
              "    .colab-df-convert:hover {\n",
              "      background-color: #E2EBFA;\n",
              "      box-shadow: 0px 1px 2px rgba(60, 64, 67, 0.3), 0px 1px 3px 1px rgba(60, 64, 67, 0.15);\n",
              "      fill: #174EA6;\n",
              "    }\n",
              "\n",
              "    [theme=dark] .colab-df-convert {\n",
              "      background-color: #3B4455;\n",
              "      fill: #D2E3FC;\n",
              "    }\n",
              "\n",
              "    [theme=dark] .colab-df-convert:hover {\n",
              "      background-color: #434B5C;\n",
              "      box-shadow: 0px 1px 3px 1px rgba(0, 0, 0, 0.15);\n",
              "      filter: drop-shadow(0px 1px 2px rgba(0, 0, 0, 0.3));\n",
              "      fill: #FFFFFF;\n",
              "    }\n",
              "  </style>\n",
              "\n",
              "      <script>\n",
              "        const buttonEl =\n",
              "          document.querySelector('#df-38d3ddc6-7452-4e71-b9c2-6bba906da3cb button.colab-df-convert');\n",
              "        buttonEl.style.display =\n",
              "          google.colab.kernel.accessAllowed ? 'block' : 'none';\n",
              "\n",
              "        async function convertToInteractive(key) {\n",
              "          const element = document.querySelector('#df-38d3ddc6-7452-4e71-b9c2-6bba906da3cb');\n",
              "          const dataTable =\n",
              "            await google.colab.kernel.invokeFunction('convertToInteractive',\n",
              "                                                     [key], {});\n",
              "          if (!dataTable) return;\n",
              "\n",
              "          const docLinkHtml = 'Like what you see? Visit the ' +\n",
              "            '<a target=\"_blank\" href=https://colab.research.google.com/notebooks/data_table.ipynb>data table notebook</a>'\n",
              "            + ' to learn more about interactive tables.';\n",
              "          element.innerHTML = '';\n",
              "          dataTable['output_type'] = 'display_data';\n",
              "          await google.colab.output.renderOutput(dataTable, element);\n",
              "          const docLink = document.createElement('div');\n",
              "          docLink.innerHTML = docLinkHtml;\n",
              "          element.appendChild(docLink);\n",
              "        }\n",
              "      </script>\n",
              "    </div>\n",
              "  </div>\n"
            ]
          },
          "metadata": {},
          "execution_count": 60
        }
      ],
      "source": [
        "# Get solution using run_solv_ivp\n",
        "results2, message = run_solve_ivp(system, slope_func2, event_func=event_func2)\n",
        "results2"
      ]
    },
    {
      "cell_type": "code",
      "source": [
        "# Need to convert time into days and distance into\n",
        "results2.index = results2.index / (60 * 60  * 24)\n",
        "\n",
        "\n",
        "results2.distance /= 1e9"
      ],
      "metadata": {
        "id": "CgDskYJPyTWE"
      },
      "id": "CgDskYJPyTWE",
      "execution_count": 67,
      "outputs": []
    },
    {
      "cell_type": "code",
      "execution_count": 68,
      "id": "upper-victory",
      "metadata": {
        "id": "upper-victory"
      },
      "outputs": [],
      "source": [
        "# Solution goes here\n",
        "import matplotlib.pyplot as plt"
      ]
    },
    {
      "cell_type": "code",
      "execution_count": 71,
      "id": "transparent-treat",
      "metadata": {
        "id": "transparent-treat",
        "colab": {
          "base_uri": "https://localhost:8080/",
          "height": 322
        },
        "outputId": "946ba5b0-69b7-42bf-a3f7-b105fa555ef8"
      },
      "outputs": [
        {
          "output_type": "execute_result",
          "data": {
            "text/plain": [
              "Text(0, 0.5, 'Distance change (millions km)')"
            ]
          },
          "metadata": {},
          "execution_count": 71
        },
        {
          "output_type": "display_data",
          "data": {
            "text/plain": [
              "<Figure size 450x300 with 1 Axes>"
            ],
            "image/png": "[encoded data removed]"
          },
          "metadata": {}
        }
      ],
      "source": [
        "# Plotting our results\n",
        "plt.plot(results2.index, results2.distance)\n",
        "plt.xlabel(\"Days\")\n",
        "plt.ylabel(\"Distance change (millions km)\")"
      ]
    },
    {
      "cell_type": "code",
      "source": [],
      "metadata": {
        "id": "5K6D2GOFz4Kh"
      },
      "id": "5K6D2GOFz4Kh",
      "execution_count": null,
      "outputs": []
    }
  ],
  "metadata": {
    "celltoolbar": "Tags",
    "kernelspec": {
      "display_name": "Python 3 (ipykernel)",
      "language": "python",
      "name": "python3"
    },
    "language_info": {
      "codemirror_mode": {
        "name": "ipython",
        "version": 3
      },
      "file_extension": ".py",
      "mimetype": "text/x-python",
      "name": "python",
      "nbconvert_exporter": "python",
      "pygments_lexer": "ipython3",
      "version": "3.7.12"
    },
    "colab": {
      "provenance": [],
      "include_colab_link": true
    }
  },
  "nbformat": 4,
  "nbformat_minor": 5
}