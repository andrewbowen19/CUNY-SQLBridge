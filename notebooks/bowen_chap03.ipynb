{
  "cells": [
    {
      "cell_type": "markdown",
      "metadata": {
        "id": "view-in-github",
        "colab_type": "text"
      },
      "source": [
        "<a href=\"https://colab.research.google.com/github/andrewbowen19/CUNY-SQLBridge/blob/main/notebooks/bowen_chap03.ipynb\" target=\"_parent\"><img src=\"https://colab.research.google.com/assets/colab-badge.svg\" alt=\"Open In Colab\"/></a>"
      ]
    },
    {
      "cell_type": "markdown",
      "metadata": {
        "id": "DIENHNqger4J"
      },
      "source": [
        "# Modeling and Simulation in Python\n",
        "\n",
        "Chapter 3\n",
        "\n",
        "Copyright 2017 Allen Downey\n",
        "\n",
        "License: [Creative Commons Attribution 4.0 International](https://creativecommons.org/licenses/by/4.0)\n"
      ]
    },
    {
      "cell_type": "code",
      "source": [
        "!pip install --q modsimpy\n",
        "!pip install --q pint"
      ],
      "metadata": {
        "colab": {
          "base_uri": "https://localhost:8080/"
        },
        "id": "r6VMLKnthmbY",
        "outputId": "e5d215aa-03fa-4957-a33d-17ef38ca58f5"
      },
      "execution_count": 2,
      "outputs": [
        {
          "output_type": "stream",
          "name": "stdout",
          "text": [
            "  Preparing metadata (setup.py) ... \u001b[?25l\u001b[?25hdone\n",
            "  Building wheel for modsimpy (setup.py) ... \u001b[?25l\u001b[?25hdone\n",
            "\u001b[2K     \u001b[90m━━━━━━━━━━━━━━━━━━━━━━━━━━━━━━━━━━━━━━━\u001b[0m \u001b[32m294.0/294.0 kB\u001b[0m \u001b[31m6.2 MB/s\u001b[0m eta \u001b[36m0:00:00\u001b[0m\n",
            "\u001b[?25h"
          ]
        }
      ]
    },
    {
      "cell_type": "code",
      "execution_count": 3,
      "metadata": {
        "id": "cQ2TgNn1er4N"
      },
      "outputs": [],
      "source": [
        "# Configure Jupyter so figures appear in the notebook\n",
        "%matplotlib inline\n",
        "\n",
        "# Configure Jupyter to display the assigned value after an assignment\n",
        "%config InteractiveShell.ast_node_interactivity='last_expr_or_assign'\n",
        "\n",
        "# import functions from the modsim library\n",
        "from modsim import *\n",
        "\n",
        "# set the random number generator\n",
        "np.random.seed(7)"
      ]
    },
    {
      "cell_type": "markdown",
      "metadata": {
        "id": "i6JyCDhber4P"
      },
      "source": [
        "## More than one State object\n",
        "\n",
        "Here's the code from the previous chapter, with two changes:\n",
        "\n",
        "1. I've added DocStrings that explain what each function does, and what parameters it takes.\n",
        "\n",
        "2. I've added a parameter named `state` to the functions so they work with whatever `State` object we give them, instead of always using `bikeshare`.  That makes it possible to work with more than one `State` object."
      ]
    },
    {
      "cell_type": "code",
      "execution_count": 4,
      "metadata": {
        "id": "noqJaxx3er4Q"
      },
      "outputs": [],
      "source": [
        "def step(state, p1, p2):\n",
        "    \"\"\"Simulate one minute of time.\n",
        "    \n",
        "    state: bikeshare State object\n",
        "    p1: probability of an Olin->Wellesley customer arrival\n",
        "    p2: probability of a Wellesley->Olin customer arrival\n",
        "    \"\"\"\n",
        "    if flip(p1):\n",
        "        bike_to_wellesley(state)\n",
        "    \n",
        "    if flip(p2):\n",
        "        bike_to_olin(state)\n",
        "        \n",
        "def bike_to_wellesley(state):\n",
        "    \"\"\"Move one bike from Olin to Wellesley.\n",
        "    \n",
        "    state: bikeshare State object\n",
        "    \"\"\"\n",
        "    state.olin -= 1\n",
        "    state.wellesley += 1\n",
        "    \n",
        "def bike_to_olin(state):\n",
        "    \"\"\"Move one bike from Wellesley to Olin.\n",
        "    \n",
        "    state: bikeshare State object\n",
        "    \"\"\"\n",
        "    state.wellesley -= 1\n",
        "    state.olin += 1\n",
        "    \n",
        "def decorate_bikeshare():\n",
        "    \"\"\"Add a title and label the axes.\"\"\"\n",
        "    decorate(title='Olin-Wellesley Bikeshare',\n",
        "             xlabel='Time step (min)', \n",
        "             ylabel='Number of bikes')"
      ]
    },
    {
      "cell_type": "markdown",
      "metadata": {
        "id": "t4yAhkdSer4R"
      },
      "source": [
        "And here's `run_simulation`, which is a solution to the exercise at the end of the previous notebook."
      ]
    },
    {
      "cell_type": "code",
      "execution_count": 5,
      "metadata": {
        "id": "G_nQLHqser4R"
      },
      "outputs": [],
      "source": [
        "def run_simulation(state, p1, p2, num_steps):\n",
        "    \"\"\"Simulate the given number of time steps.\n",
        "    \n",
        "    state: State object\n",
        "    p1: probability of an Olin->Wellesley customer arrival\n",
        "    p2: probability of a Wellesley->Olin customer arrival\n",
        "    num_steps: number of time steps\n",
        "    \"\"\"\n",
        "    results = TimeSeries()    \n",
        "    for i in range(num_steps):\n",
        "        step(state, p1, p2)\n",
        "        results[i] = state.olin\n",
        "        \n",
        "    plot(results, label='Olin')"
      ]
    },
    {
      "cell_type": "markdown",
      "metadata": {
        "id": "vI36Ns7Ter4R"
      },
      "source": [
        "Now we can create more than one `State` object:"
      ]
    },
    {
      "cell_type": "code",
      "execution_count": 6,
      "metadata": {
        "id": "oJidhs76er4S",
        "colab": {
          "base_uri": "https://localhost:8080/",
          "height": 111
        },
        "outputId": "33603269-fa0d-4f55-ace6-cef051e6944e"
      },
      "outputs": [
        {
          "output_type": "execute_result",
          "data": {
            "text/plain": [
              "olin         10\n",
              "wellesley     2\n",
              "dtype: int64"
            ],
            "text/html": [
              "<div>\n",
              "<style scoped>\n",
              "    .dataframe tbody tr th:only-of-type {\n",
              "        vertical-align: middle;\n",
              "    }\n",
              "\n",
              "    .dataframe tbody tr th {\n",
              "        vertical-align: top;\n",
              "    }\n",
              "\n",
              "    .dataframe thead th {\n",
              "        text-align: right;\n",
              "    }\n",
              "</style>\n",
              "<table border=\"1\" class=\"dataframe\">\n",
              "  <thead>\n",
              "    <tr style=\"text-align: right;\">\n",
              "      <th></th>\n",
              "      <th>values</th>\n",
              "    </tr>\n",
              "  </thead>\n",
              "  <tbody>\n",
              "    <tr>\n",
              "      <th>olin</th>\n",
              "      <td>10</td>\n",
              "    </tr>\n",
              "    <tr>\n",
              "      <th>wellesley</th>\n",
              "      <td>2</td>\n",
              "    </tr>\n",
              "  </tbody>\n",
              "</table>\n",
              "</div>"
            ]
          },
          "metadata": {},
          "execution_count": 6
        }
      ],
      "source": [
        "bikeshare1 = State(olin=10, wellesley=2)"
      ]
    },
    {
      "cell_type": "code",
      "execution_count": 7,
      "metadata": {
        "id": "RpZtZEe-er4S",
        "colab": {
          "base_uri": "https://localhost:8080/",
          "height": 111
        },
        "outputId": "830fdddf-cedb-4eef-c71c-a815759d01f3"
      },
      "outputs": [
        {
          "output_type": "execute_result",
          "data": {
            "text/plain": [
              "olin          2\n",
              "wellesley    10\n",
              "dtype: int64"
            ],
            "text/html": [
              "<div>\n",
              "<style scoped>\n",
              "    .dataframe tbody tr th:only-of-type {\n",
              "        vertical-align: middle;\n",
              "    }\n",
              "\n",
              "    .dataframe tbody tr th {\n",
              "        vertical-align: top;\n",
              "    }\n",
              "\n",
              "    .dataframe thead th {\n",
              "        text-align: right;\n",
              "    }\n",
              "</style>\n",
              "<table border=\"1\" class=\"dataframe\">\n",
              "  <thead>\n",
              "    <tr style=\"text-align: right;\">\n",
              "      <th></th>\n",
              "      <th>values</th>\n",
              "    </tr>\n",
              "  </thead>\n",
              "  <tbody>\n",
              "    <tr>\n",
              "      <th>olin</th>\n",
              "      <td>2</td>\n",
              "    </tr>\n",
              "    <tr>\n",
              "      <th>wellesley</th>\n",
              "      <td>10</td>\n",
              "    </tr>\n",
              "  </tbody>\n",
              "</table>\n",
              "</div>"
            ]
          },
          "metadata": {},
          "execution_count": 7
        }
      ],
      "source": [
        "bikeshare2 = State(olin=2, wellesley=10)"
      ]
    },
    {
      "cell_type": "markdown",
      "metadata": {
        "id": "M0NBHfb8er4T"
      },
      "source": [
        "Whenever we call a function, we indicate which `State` object to work with:"
      ]
    },
    {
      "cell_type": "code",
      "execution_count": 8,
      "metadata": {
        "id": "_sdYukfEer4T"
      },
      "outputs": [],
      "source": [
        "bike_to_olin(bikeshare1)"
      ]
    },
    {
      "cell_type": "code",
      "execution_count": 9,
      "metadata": {
        "id": "Mp5x9qw4er4T"
      },
      "outputs": [],
      "source": [
        "bike_to_wellesley(bikeshare2)"
      ]
    },
    {
      "cell_type": "markdown",
      "metadata": {
        "id": "IqefpS2ger4U"
      },
      "source": [
        "And you can confirm that the different objects are getting updated independently:"
      ]
    },
    {
      "cell_type": "code",
      "execution_count": 10,
      "metadata": {
        "id": "lPWA-6EGer4U",
        "colab": {
          "base_uri": "https://localhost:8080/",
          "height": 111
        },
        "outputId": "8d7f0d27-1f5f-4cf9-ba7c-e5d88d518211"
      },
      "outputs": [
        {
          "output_type": "execute_result",
          "data": {
            "text/plain": [
              "olin         11\n",
              "wellesley     1\n",
              "dtype: int64"
            ],
            "text/html": [
              "<div>\n",
              "<style scoped>\n",
              "    .dataframe tbody tr th:only-of-type {\n",
              "        vertical-align: middle;\n",
              "    }\n",
              "\n",
              "    .dataframe tbody tr th {\n",
              "        vertical-align: top;\n",
              "    }\n",
              "\n",
              "    .dataframe thead th {\n",
              "        text-align: right;\n",
              "    }\n",
              "</style>\n",
              "<table border=\"1\" class=\"dataframe\">\n",
              "  <thead>\n",
              "    <tr style=\"text-align: right;\">\n",
              "      <th></th>\n",
              "      <th>values</th>\n",
              "    </tr>\n",
              "  </thead>\n",
              "  <tbody>\n",
              "    <tr>\n",
              "      <th>olin</th>\n",
              "      <td>11</td>\n",
              "    </tr>\n",
              "    <tr>\n",
              "      <th>wellesley</th>\n",
              "      <td>1</td>\n",
              "    </tr>\n",
              "  </tbody>\n",
              "</table>\n",
              "</div>"
            ]
          },
          "metadata": {},
          "execution_count": 10
        }
      ],
      "source": [
        "bikeshare1"
      ]
    },
    {
      "cell_type": "code",
      "execution_count": 11,
      "metadata": {
        "id": "A9dfbfr8er4V",
        "colab": {
          "base_uri": "https://localhost:8080/",
          "height": 111
        },
        "outputId": "f31c62e7-f353-4bcc-d009-1b177f4006f6"
      },
      "outputs": [
        {
          "output_type": "execute_result",
          "data": {
            "text/plain": [
              "olin          1\n",
              "wellesley    11\n",
              "dtype: int64"
            ],
            "text/html": [
              "<div>\n",
              "<style scoped>\n",
              "    .dataframe tbody tr th:only-of-type {\n",
              "        vertical-align: middle;\n",
              "    }\n",
              "\n",
              "    .dataframe tbody tr th {\n",
              "        vertical-align: top;\n",
              "    }\n",
              "\n",
              "    .dataframe thead th {\n",
              "        text-align: right;\n",
              "    }\n",
              "</style>\n",
              "<table border=\"1\" class=\"dataframe\">\n",
              "  <thead>\n",
              "    <tr style=\"text-align: right;\">\n",
              "      <th></th>\n",
              "      <th>values</th>\n",
              "    </tr>\n",
              "  </thead>\n",
              "  <tbody>\n",
              "    <tr>\n",
              "      <th>olin</th>\n",
              "      <td>1</td>\n",
              "    </tr>\n",
              "    <tr>\n",
              "      <th>wellesley</th>\n",
              "      <td>11</td>\n",
              "    </tr>\n",
              "  </tbody>\n",
              "</table>\n",
              "</div>"
            ]
          },
          "metadata": {},
          "execution_count": 11
        }
      ],
      "source": [
        "bikeshare2"
      ]
    },
    {
      "cell_type": "markdown",
      "metadata": {
        "id": "4avkFe47er4V"
      },
      "source": [
        "## Negative bikes"
      ]
    },
    {
      "cell_type": "markdown",
      "metadata": {
        "id": "AmnyDcXYer4W"
      },
      "source": [
        "In the code we have so far, the number of bikes at one of the locations can go negative, and the number of bikes at the other location can exceed the actual number of bikes in the system.\n",
        "\n",
        "If you run this simulation a few times, it happens often."
      ]
    },
    {
      "cell_type": "code",
      "execution_count": 12,
      "metadata": {
        "id": "gWHF66bNer4W",
        "colab": {
          "base_uri": "https://localhost:8080/",
          "height": 473
        },
        "outputId": "24dbabc9-9583-4bd4-9f33-dac2d85a6dff"
      },
      "outputs": [
        {
          "output_type": "display_data",
          "data": {
            "text/plain": [
              "<Figure size 640x480 with 1 Axes>"
            ],
            "image/png": "[encoded data removed]"
          },
          "metadata": {}
        }
      ],
      "source": [
        "bikeshare = State(olin=10, wellesley=2)\n",
        "run_simulation(bikeshare, 0.4, 0.2, 60)\n",
        "decorate_bikeshare()"
      ]
    },
    {
      "cell_type": "markdown",
      "metadata": {
        "id": "LG9h1PQeer4X"
      },
      "source": [
        "We can fix this problem using the `return` statement to exit the function early if an update would cause negative bikes."
      ]
    },
    {
      "cell_type": "code",
      "execution_count": 13,
      "metadata": {
        "id": "9ydUlWrfer4X"
      },
      "outputs": [],
      "source": [
        "def bike_to_wellesley(state):\n",
        "    \"\"\"Move one bike from Olin to Wellesley.\n",
        "    \n",
        "    state: bikeshare State object\n",
        "    \"\"\"\n",
        "    if state.olin == 0:\n",
        "        return\n",
        "    state.olin -= 1\n",
        "    state.wellesley += 1\n",
        "    \n",
        "def bike_to_olin(state):\n",
        "    \"\"\"Move one bike from Wellesley to Olin.\n",
        "    \n",
        "    state: bikeshare State object\n",
        "    \"\"\"\n",
        "    if state.wellesley == 0:\n",
        "        return\n",
        "    state.wellesley -= 1\n",
        "    state.olin += 1"
      ]
    },
    {
      "cell_type": "markdown",
      "metadata": {
        "id": "IqNy0dHser4X"
      },
      "source": [
        "Now if you run the simulation again, it should behave."
      ]
    },
    {
      "cell_type": "code",
      "execution_count": 14,
      "metadata": {
        "id": "eqCSvAKWer4X",
        "colab": {
          "base_uri": "https://localhost:8080/",
          "height": 473
        },
        "outputId": "0102c1c3-4445-4937-b663-1978e3734c04"
      },
      "outputs": [
        {
          "output_type": "display_data",
          "data": {
            "text/plain": [
              "<Figure size 640x480 with 1 Axes>"
            ],
            "image/png": "[encoded data removed]"
          },
          "metadata": {}
        }
      ],
      "source": [
        "bikeshare = State(olin=10, wellesley=2)\n",
        "run_simulation(bikeshare, 0.4, 0.2, 60)\n",
        "decorate_bikeshare()"
      ]
    },
    {
      "cell_type": "markdown",
      "metadata": {
        "id": "Sa8SyIP-er4Y"
      },
      "source": [
        "## Comparison operators"
      ]
    },
    {
      "cell_type": "markdown",
      "metadata": {
        "id": "bOs9zvcier4Y"
      },
      "source": [
        "The `if` statements in the previous section used the comparison operator `==`.  The other comparison operators are listed in the book.\n",
        "\n",
        "It is easy to confuse the comparison operator `==` with the assignment operator `=`.\n",
        "\n",
        "Remember that `=` creates a variable or gives an existing variable a new value."
      ]
    },
    {
      "cell_type": "code",
      "execution_count": 15,
      "metadata": {
        "id": "DgUb1caEer4Y",
        "colab": {
          "base_uri": "https://localhost:8080/"
        },
        "outputId": "0c536a1a-d0f1-4303-eb81-22c9995238f2"
      },
      "outputs": [
        {
          "output_type": "execute_result",
          "data": {
            "text/plain": [
              "5"
            ]
          },
          "metadata": {},
          "execution_count": 15
        }
      ],
      "source": [
        "x = 5"
      ]
    },
    {
      "cell_type": "markdown",
      "metadata": {
        "id": "7B7vWV9mer4Y"
      },
      "source": [
        "Whereas `==` compares two values and returns `True` if they are equal."
      ]
    },
    {
      "cell_type": "code",
      "execution_count": 16,
      "metadata": {
        "id": "jFR7TIjder4Y",
        "colab": {
          "base_uri": "https://localhost:8080/"
        },
        "outputId": "3edf9dac-ed50-41de-8fbb-e43ae9c67cd4"
      },
      "outputs": [
        {
          "output_type": "execute_result",
          "data": {
            "text/plain": [
              "True"
            ]
          },
          "metadata": {},
          "execution_count": 16
        }
      ],
      "source": [
        "x == 5"
      ]
    },
    {
      "cell_type": "markdown",
      "metadata": {
        "id": "Pw-r9Fyper4Z"
      },
      "source": [
        "You can use `==` in an `if` statement."
      ]
    },
    {
      "cell_type": "code",
      "execution_count": 17,
      "metadata": {
        "id": "eHZfBGj0er4Z",
        "colab": {
          "base_uri": "https://localhost:8080/"
        },
        "outputId": "dbc39dc3-4e79-410b-c630-ff64eff7485b"
      },
      "outputs": [
        {
          "output_type": "stream",
          "name": "stdout",
          "text": [
            "yes, x is 5\n"
          ]
        }
      ],
      "source": [
        "if x == 5:\n",
        "    print('yes, x is 5')"
      ]
    },
    {
      "cell_type": "markdown",
      "metadata": {
        "id": "YGpuc38Wer4Z"
      },
      "source": [
        "But if you use `=` in an `if` statement, you get an error."
      ]
    },
    {
      "cell_type": "code",
      "execution_count": 20,
      "metadata": {
        "id": "fczQ1ZTzer4Z",
        "colab": {
          "base_uri": "https://localhost:8080/"
        },
        "outputId": "6d02adb4-171f-47f6-f1c9-ea522d970fa9"
      },
      "outputs": [
        {
          "output_type": "stream",
          "name": "stdout",
          "text": [
            "Sorry, x is 5\n"
          ]
        }
      ],
      "source": [
        "# If you remove the # from the if statement and run it, you'll get\n",
        "# SyntaxError: invalid syntax\n",
        "\n",
        "# Keeping commented out so the notebook runs\n",
        "if x != 5:\n",
        "   print('yes, x is not 5')\n",
        "\n",
        "else:\n",
        "  print(\"Sorry, x is 5\")"
      ]
    },
    {
      "cell_type": "markdown",
      "metadata": {
        "id": "u4Argh2Yer4a"
      },
      "source": [
        "**Exercise:** Add an `else` clause to the `if` statement above, and print an appropriate message.\n",
        "\n",
        "Replace the `==` operator with one or two of the other comparison operators, and confirm they do what you expect."
      ]
    },
    {
      "cell_type": "markdown",
      "metadata": {
        "id": "oGDiMahZer4b"
      },
      "source": [
        "## Metrics"
      ]
    },
    {
      "cell_type": "markdown",
      "metadata": {
        "id": "XnyHlPMYer4b"
      },
      "source": [
        "Now that we have a working simulation, we'll use it to evaluate alternative designs and see how good or bad they are.  The metric we'll use is the number of customers who arrive and find no bikes available, which might indicate a design problem."
      ]
    },
    {
      "cell_type": "markdown",
      "metadata": {
        "id": "OxMwWqMGer4c"
      },
      "source": [
        "First we'll make a new `State` object that creates and initializes additional state variables to keep track of the metrics."
      ]
    },
    {
      "cell_type": "code",
      "execution_count": 21,
      "metadata": {
        "id": "-wv0nInKer4c",
        "colab": {
          "base_uri": "https://localhost:8080/",
          "height": 173
        },
        "outputId": "f3234bed-d3ee-4955-97d0-cfd6b83f5635"
      },
      "outputs": [
        {
          "output_type": "execute_result",
          "data": {
            "text/plain": [
              "olin               10\n",
              "wellesley           2\n",
              "olin_empty          0\n",
              "wellesley_empty     0\n",
              "dtype: int64"
            ],
            "text/html": [
              "<div>\n",
              "<style scoped>\n",
              "    .dataframe tbody tr th:only-of-type {\n",
              "        vertical-align: middle;\n",
              "    }\n",
              "\n",
              "    .dataframe tbody tr th {\n",
              "        vertical-align: top;\n",
              "    }\n",
              "\n",
              "    .dataframe thead th {\n",
              "        text-align: right;\n",
              "    }\n",
              "</style>\n",
              "<table border=\"1\" class=\"dataframe\">\n",
              "  <thead>\n",
              "    <tr style=\"text-align: right;\">\n",
              "      <th></th>\n",
              "      <th>values</th>\n",
              "    </tr>\n",
              "  </thead>\n",
              "  <tbody>\n",
              "    <tr>\n",
              "      <th>olin</th>\n",
              "      <td>10</td>\n",
              "    </tr>\n",
              "    <tr>\n",
              "      <th>wellesley</th>\n",
              "      <td>2</td>\n",
              "    </tr>\n",
              "    <tr>\n",
              "      <th>olin_empty</th>\n",
              "      <td>0</td>\n",
              "    </tr>\n",
              "    <tr>\n",
              "      <th>wellesley_empty</th>\n",
              "      <td>0</td>\n",
              "    </tr>\n",
              "  </tbody>\n",
              "</table>\n",
              "</div>"
            ]
          },
          "metadata": {},
          "execution_count": 21
        }
      ],
      "source": [
        "bikeshare = State(olin=10, wellesley=2, \n",
        "                  olin_empty=0, wellesley_empty=0)"
      ]
    },
    {
      "cell_type": "markdown",
      "metadata": {
        "id": "osy_UlBwer4d"
      },
      "source": [
        "Next we need versions of `bike_to_wellesley` and `bike_to_olin` that update the metrics."
      ]
    },
    {
      "cell_type": "code",
      "execution_count": 22,
      "metadata": {
        "id": "FIjg2bB7er4d"
      },
      "outputs": [],
      "source": [
        "def bike_to_wellesley(state):\n",
        "    \"\"\"Move one bike from Olin to Wellesley.\n",
        "    \n",
        "    state: bikeshare State object\n",
        "    \"\"\"\n",
        "    if state.olin == 0:\n",
        "        state.olin_empty += 1\n",
        "        return\n",
        "    state.olin -= 1\n",
        "    state.wellesley += 1\n",
        "    \n",
        "def bike_to_olin(state):\n",
        "    \"\"\"Move one bike from Wellesley to Olin.\n",
        "    \n",
        "    state: bikeshare State object\n",
        "    \"\"\"\n",
        "    if state.wellesley == 0:\n",
        "        state.wellesley_empty += 1\n",
        "        return\n",
        "    state.wellesley -= 1\n",
        "    state.olin += 1"
      ]
    },
    {
      "cell_type": "markdown",
      "metadata": {
        "id": "X_illHxaer4d"
      },
      "source": [
        "Now when we run a simulation, it keeps track of unhappy customers."
      ]
    },
    {
      "cell_type": "code",
      "execution_count": 23,
      "metadata": {
        "id": "Ovz0DvWaer4e",
        "colab": {
          "base_uri": "https://localhost:8080/",
          "height": 473
        },
        "outputId": "9436568d-c379-4db3-abf7-81f7048fdd98"
      },
      "outputs": [
        {
          "output_type": "display_data",
          "data": {
            "text/plain": [
              "<Figure size 640x480 with 1 Axes>"
            ],
            "image/png": "[encoded data removed]"
          },
          "metadata": {}
        }
      ],
      "source": [
        "run_simulation(bikeshare, 0.4, 0.2, 60)\n",
        "decorate_bikeshare()"
      ]
    },
    {
      "cell_type": "markdown",
      "metadata": {
        "id": "MquJoAoEer4e"
      },
      "source": [
        "After the simulation, we can print the number of unhappy customers at each location."
      ]
    },
    {
      "cell_type": "code",
      "execution_count": 24,
      "metadata": {
        "id": "uu97PeiAer4f",
        "colab": {
          "base_uri": "https://localhost:8080/"
        },
        "outputId": "59f8024b-b306-4b9b-dbba-95103a8970f9"
      },
      "outputs": [
        {
          "output_type": "execute_result",
          "data": {
            "text/plain": [
              "6"
            ]
          },
          "metadata": {},
          "execution_count": 24
        }
      ],
      "source": [
        "bikeshare.olin_empty"
      ]
    },
    {
      "cell_type": "code",
      "execution_count": 25,
      "metadata": {
        "id": "3l8u_wrYer4f",
        "colab": {
          "base_uri": "https://localhost:8080/"
        },
        "outputId": "e803cd6a-4987-4404-ddd9-4f7223366315"
      },
      "outputs": [
        {
          "output_type": "execute_result",
          "data": {
            "text/plain": [
              "0"
            ]
          },
          "metadata": {},
          "execution_count": 25
        }
      ],
      "source": [
        "bikeshare.wellesley_empty"
      ]
    },
    {
      "cell_type": "markdown",
      "metadata": {
        "id": "nMYk2_l4er4g"
      },
      "source": [
        "## Exercises\n",
        "\n",
        "**Exercise:** As another metric, we might be interested in the time until the first customer arrives and doesn't find a bike.  To make that work, we have to add a \"clock\" to keep track of how many time steps have elapsed:\n",
        "\n",
        "1. Create a new `State` object with an additional state variable, `clock`, initialized to 0. \n",
        "\n",
        "2. Write a modified version of `step` that adds one to the clock each time it is invoked.\n",
        "\n",
        "Test your code by running the simulation and check the value of `clock` at the end."
      ]
    },
    {
      "cell_type": "code",
      "execution_count": 26,
      "metadata": {
        "id": "-jEzIGyler4g",
        "colab": {
          "base_uri": "https://localhost:8080/",
          "height": 204
        },
        "outputId": "65ae72b8-0958-460c-eb04-5d7da7481095"
      },
      "outputs": [
        {
          "output_type": "execute_result",
          "data": {
            "text/plain": [
              "olin               10\n",
              "wellesley           2\n",
              "olin_empty          0\n",
              "wellesley_empty     0\n",
              "clock               0\n",
              "dtype: int64"
            ],
            "text/html": [
              "<div>\n",
              "<style scoped>\n",
              "    .dataframe tbody tr th:only-of-type {\n",
              "        vertical-align: middle;\n",
              "    }\n",
              "\n",
              "    .dataframe tbody tr th {\n",
              "        vertical-align: top;\n",
              "    }\n",
              "\n",
              "    .dataframe thead th {\n",
              "        text-align: right;\n",
              "    }\n",
              "</style>\n",
              "<table border=\"1\" class=\"dataframe\">\n",
              "  <thead>\n",
              "    <tr style=\"text-align: right;\">\n",
              "      <th></th>\n",
              "      <th>values</th>\n",
              "    </tr>\n",
              "  </thead>\n",
              "  <tbody>\n",
              "    <tr>\n",
              "      <th>olin</th>\n",
              "      <td>10</td>\n",
              "    </tr>\n",
              "    <tr>\n",
              "      <th>wellesley</th>\n",
              "      <td>2</td>\n",
              "    </tr>\n",
              "    <tr>\n",
              "      <th>olin_empty</th>\n",
              "      <td>0</td>\n",
              "    </tr>\n",
              "    <tr>\n",
              "      <th>wellesley_empty</th>\n",
              "      <td>0</td>\n",
              "    </tr>\n",
              "    <tr>\n",
              "      <th>clock</th>\n",
              "      <td>0</td>\n",
              "    </tr>\n",
              "  </tbody>\n",
              "</table>\n",
              "</div>"
            ]
          },
          "metadata": {},
          "execution_count": 26
        }
      ],
      "source": [
        "bikeshare = State(olin=10, wellesley=2, \n",
        "                  olin_empty=0, wellesley_empty=0,\n",
        "                  clock=0)"
      ]
    },
    {
      "cell_type": "code",
      "execution_count": 30,
      "metadata": {
        "id": "xRvDbl9Rer4g"
      },
      "outputs": [],
      "source": [
        "# Solution goes here\n",
        "def step(state, p1, p2):\n",
        "    \"\"\"Simulate one minute of time.\n",
        "    \n",
        "    state: bikeshare State object\n",
        "    p1: probability of an Olin->Wellesley customer arrival\n",
        "    p2: probability of a Wellesley->Olin customer arrival\n",
        "    \"\"\"\n",
        "    if flip(p1):\n",
        "        bike_to_wellesley(state)\n",
        "    \n",
        "    if flip(p2):\n",
        "        bike_to_olin(state)\n",
        "\n",
        "    # Increment clock attr on function call\n",
        "    state.clock += 1\n",
        "\n",
        "def run_simulation(state, p1, p2, num_steps):\n",
        "    \"\"\"Simulate the given number of time steps.\n",
        "    \n",
        "    state: State object\n",
        "    p1: probability of an Olin->Wellesley customer arrival\n",
        "    p2: probability of a Wellesley->Olin customer arrival\n",
        "    num_steps: number of time steps\n",
        "    \"\"\"\n",
        "    results = TimeSeries()    \n",
        "    for i in range(num_steps):\n",
        "        step(state, p1, p2)\n",
        "        results[i] = state.olin\n",
        "        \n",
        "    plot(results, label='Olin')"
      ]
    },
    {
      "cell_type": "code",
      "execution_count": 31,
      "metadata": {
        "id": "vM_uGXKuer4g",
        "colab": {
          "base_uri": "https://localhost:8080/",
          "height": 437
        },
        "outputId": "cb444e35-35de-4f25-88a6-763b5262d9d4"
      },
      "outputs": [
        {
          "output_type": "display_data",
          "data": {
            "text/plain": [
              "<Figure size 640x480 with 1 Axes>"
            ],
            "image/png": "[encoded data removed]"
          },
          "metadata": {}
        }
      ],
      "source": [
        "# Solution goes here\n",
        "run_simulation(bikeshare, p1=0.45, p2=0.55, num_steps=30)"
      ]
    },
    {
      "cell_type": "code",
      "execution_count": 32,
      "metadata": {
        "id": "5Y7gaEiIer4h",
        "colab": {
          "base_uri": "https://localhost:8080/",
          "height": 235
        },
        "outputId": "ecae7649-7164-4dcb-8e36-bf5f7541b7d9"
      },
      "outputs": [
        {
          "output_type": "execute_result",
          "data": {
            "text/plain": [
              "olin               4\n",
              "wellesley          7\n",
              "olin_empty         0\n",
              "wellesley_empty    0\n",
              "clock              0\n",
              "t_first_empty     -1\n",
              "dtype: int64"
            ],
            "text/html": [
              "<div>\n",
              "<style scoped>\n",
              "    .dataframe tbody tr th:only-of-type {\n",
              "        vertical-align: middle;\n",
              "    }\n",
              "\n",
              "    .dataframe tbody tr th {\n",
              "        vertical-align: top;\n",
              "    }\n",
              "\n",
              "    .dataframe thead th {\n",
              "        text-align: right;\n",
              "    }\n",
              "</style>\n",
              "<table border=\"1\" class=\"dataframe\">\n",
              "  <thead>\n",
              "    <tr style=\"text-align: right;\">\n",
              "      <th></th>\n",
              "      <th>values</th>\n",
              "    </tr>\n",
              "  </thead>\n",
              "  <tbody>\n",
              "    <tr>\n",
              "      <th>olin</th>\n",
              "      <td>4</td>\n",
              "    </tr>\n",
              "    <tr>\n",
              "      <th>wellesley</th>\n",
              "      <td>7</td>\n",
              "    </tr>\n",
              "    <tr>\n",
              "      <th>olin_empty</th>\n",
              "      <td>0</td>\n",
              "    </tr>\n",
              "    <tr>\n",
              "      <th>wellesley_empty</th>\n",
              "      <td>0</td>\n",
              "    </tr>\n",
              "    <tr>\n",
              "      <th>clock</th>\n",
              "      <td>0</td>\n",
              "    </tr>\n",
              "    <tr>\n",
              "      <th>t_first_empty</th>\n",
              "      <td>-1</td>\n",
              "    </tr>\n",
              "  </tbody>\n",
              "</table>\n",
              "</div>"
            ]
          },
          "metadata": {},
          "execution_count": 32
        }
      ],
      "source": [
        "# Solution goes here\n",
        "bike_state = State(olin=4, wellesley=7, olin_empty=0, wellesley_empty=0, clock=0, t_first_empty=-1)"
      ]
    },
    {
      "cell_type": "markdown",
      "metadata": {
        "id": "CqGPXru5er4h"
      },
      "source": [
        "**Exercise:** Continuing the previous exercise, let's record the time when the first customer arrives and doesn't find a bike.\n",
        "\n",
        "1. Create a new `State` object with an additional state variable, `t_first_empty`, initialized to -1 as a special value to indicate that it has not been set. \n",
        "\n",
        "2. Write a modified version of `step` that checks whether`olin_empty` and `wellesley_empty` are 0.  If not, it should set `t_first_empty` to `clock` (but only if `t_first_empty` has not already been set).\n",
        "\n",
        "Test your code by running the simulation and printing the values of `olin_empty`, `wellesley_empty`, and `t_first_empty` at the end."
      ]
    },
    {
      "cell_type": "code",
      "execution_count": 34,
      "metadata": {
        "id": "bupL6qSker4h"
      },
      "outputs": [],
      "source": [
        "# Solution goes here\n",
        "\n",
        "def new_step(state, p1, p2):\n",
        "    \"\"\"Simulate one minute of time.\n",
        "    \n",
        "    state: bikeshare State object\n",
        "    p1: probability of an Olin->Wellesley customer arrival\n",
        "    p2: probability of a Wellesley->Olin customer arrival\n",
        "    \"\"\"\n",
        "    if (state.olin_empty == 0 or state.wellesley_empty == 0 ) and state.t_first_empty == -1:\n",
        "      t_first_empty = state.clock\n",
        "\n",
        "    if flip(p1):\n",
        "        bike_to_wellesley(state)\n",
        "    \n",
        "    if flip(p2):\n",
        "        bike_to_olin(state)\n",
        "\n",
        "    print(state.olin_empty, state.wellesley_empty, state.t_first_empty)\n",
        "\n",
        "    # Increment clock attr on function call\n",
        "    state.clock += 1"
      ]
    },
    {
      "cell_type": "code",
      "execution_count": 35,
      "metadata": {
        "id": "zk4D4wi8er4h"
      },
      "outputs": [],
      "source": [
        "# Solution goes here\n",
        "def run_simulation(state, p1, p2, num_steps):\n",
        "    \"\"\"Simulate the given number of time steps.\n",
        "    \n",
        "    state: State object\n",
        "    p1: probability of an Olin->Wellesley customer arrival\n",
        "    p2: probability of a Wellesley->Olin customer arrival\n",
        "    num_steps: number of time steps\n",
        "    \"\"\"\n",
        "    results = TimeSeries()    \n",
        "    for i in range(num_steps):\n",
        "        new_step(state, p1, p2)\n",
        "        results[i] = state.olin\n",
        "        \n",
        "    plot(results, label='Olin')"
      ]
    },
    {
      "cell_type": "code",
      "execution_count": 37,
      "metadata": {
        "id": "0hPp1u9oer4h",
        "colab": {
          "base_uri": "https://localhost:8080/",
          "height": 1000
        },
        "outputId": "802a5a25-2c23-4feb-8868-e087f10f2b58"
      },
      "outputs": [
        {
          "output_type": "stream",
          "name": "stdout",
          "text": [
            "0 0 -1\n",
            "0 0 -1\n",
            "0 0 -1\n",
            "0 0 -1\n",
            "0 0 -1\n",
            "0 0 -1\n",
            "0 0 -1\n",
            "0 0 -1\n",
            "0 0 -1\n",
            "0 0 -1\n",
            "0 0 -1\n",
            "0 1 -1\n",
            "0 2 -1\n",
            "0 2 -1\n",
            "0 2 -1\n",
            "0 2 -1\n",
            "0 3 -1\n",
            "0 4 -1\n",
            "0 4 -1\n",
            "0 4 -1\n",
            "0 5 -1\n",
            "0 5 -1\n",
            "0 5 -1\n",
            "0 5 -1\n",
            "0 5 -1\n",
            "0 6 -1\n",
            "0 7 -1\n",
            "0 8 -1\n",
            "0 8 -1\n",
            "0 9 -1\n",
            "0 10 -1\n",
            "0 10 -1\n",
            "0 10 -1\n",
            "0 10 -1\n",
            "0 10 -1\n"
          ]
        },
        {
          "output_type": "display_data",
          "data": {
            "text/plain": [
              "<Figure size 640x480 with 1 Axes>"
            ],
            "image/png": "[encoded data removed]"
          },
          "metadata": {}
        }
      ],
      "source": [
        "# Solution goes here\n",
        "run_simulation(bike_state, 0.2, 0.8, num_steps=35)"
      ]
    }
  ],
  "metadata": {
    "kernelspec": {
      "display_name": "Python 3",
      "language": "python",
      "name": "python3"
    },
    "language_info": {
      "codemirror_mode": {
        "name": "ipython",
        "version": 3
      },
      "file_extension": ".py",
      "mimetype": "text/x-python",
      "name": "python",
      "nbconvert_exporter": "python",
      "pygments_lexer": "ipython3",
      "version": "3.7.3"
    },
    "colab": {
      "provenance": [],
      "include_colab_link": true
    }
  },
  "nbformat": 4,
  "nbformat_minor": 0
}