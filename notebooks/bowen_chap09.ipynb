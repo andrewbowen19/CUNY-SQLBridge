{
  "cells": [
    {
      "cell_type": "markdown",
      "metadata": {
        "id": "view-in-github",
        "colab_type": "text"
      },
      "source": [
        "<a href=\"https://colab.research.google.com/github/andrewbowen19/CUNY-SQLBridge/blob/main/notebooks/bowen_chap09.ipynb\" target=\"_parent\"><img src=\"https://colab.research.google.com/assets/colab-badge.svg\" alt=\"Open In Colab\"/></a>"
      ]
    },
    {
      "cell_type": "markdown",
      "metadata": {
        "id": "wQwJ8ipZT5YS"
      },
      "source": [
        "# Modeling and Simulation in Python\n",
        "\n",
        "Chapter 9\n",
        "\n",
        "Copyright 2017 Allen Downey\n",
        "\n",
        "License: [Creative Commons Attribution 4.0 International](https://creativecommons.org/licenses/by/4.0)\n"
      ]
    },
    {
      "cell_type": "code",
      "source": [
        "!pip install --q pint\n",
        "!pip install --q modsimpy"
      ],
      "metadata": {
        "id": "CrqBjuLrT-SB",
        "colab": {
          "base_uri": "https://localhost:8080/"
        },
        "outputId": "c3949054-9f4c-47f0-a040-75c6989be526"
      },
      "execution_count": 1,
      "outputs": [
        {
          "output_type": "stream",
          "name": "stdout",
          "text": [
            "\u001b[?25l     \u001b[90m━━━━━━━━━━━━━━━━━━━━━━━━━━━━━━━━━━━━━━━━\u001b[0m \u001b[32m0.0/294.0 kB\u001b[0m \u001b[31m?\u001b[0m eta \u001b[36m-:--:--\u001b[0m\r\u001b[2K     \u001b[90m━━━━━━━━━━━━━━━━━━━━━━━━━━━━━━━━━━━━━━━\u001b[0m \u001b[32m294.0/294.0 kB\u001b[0m \u001b[31m8.5 MB/s\u001b[0m eta \u001b[36m0:00:00\u001b[0m\n",
            "\u001b[?25h  Preparing metadata (setup.py) ... \u001b[?25l\u001b[?25hdone\n",
            "  Building wheel for modsimpy (setup.py) ... \u001b[?25l\u001b[?25hdone\n"
          ]
        }
      ]
    },
    {
      "cell_type": "code",
      "execution_count": 2,
      "metadata": {
        "id": "3m86uykxT5YX"
      },
      "outputs": [],
      "source": [
        "# Configure Jupyter to display the assigned value after an assignment\n",
        "%config InteractiveShell.ast_node_interactivity='last_expr_or_assign'\n",
        "\n",
        "# import everything from SymPy.\n",
        "from sympy import *\n",
        "\n",
        "# Set up Jupyter notebook to display math.\n",
        "init_printing()"
      ]
    },
    {
      "cell_type": "markdown",
      "metadata": {
        "id": "Ta9cyi2dT5Ya"
      },
      "source": [
        "The following displays SymPy expressions and provides the option of showing results in LaTeX format."
      ]
    },
    {
      "cell_type": "code",
      "execution_count": 3,
      "metadata": {
        "id": "oipTUgkNT5Yb"
      },
      "outputs": [],
      "source": [
        "from sympy.printing import latex\n",
        "\n",
        "def show(expr, show_latex=False):\n",
        "    \"\"\"Display a SymPy expression.\n",
        "\n",
        "    expr: SymPy expression\n",
        "    show_latex: boolean\n",
        "    \"\"\"\n",
        "    if show_latex:\n",
        "        print(latex(expr))\n",
        "    return expr"
      ]
    },
    {
      "cell_type": "markdown",
      "metadata": {
        "id": "69VCteVwT5Yb"
      },
      "source": [
        "### Analysis with SymPy"
      ]
    },
    {
      "cell_type": "markdown",
      "metadata": {
        "id": "ouLJeZTkT5Yc"
      },
      "source": [
        "Create a symbol for time."
      ]
    },
    {
      "cell_type": "code",
      "execution_count": 4,
      "metadata": {
        "id": "Q99SIQLVT5Yc",
        "outputId": "abd7b92f-4d51-4e07-b830-e32173c61711",
        "colab": {
          "base_uri": "https://localhost:8080/",
          "height": 38
        }
      },
      "outputs": [
        {
          "output_type": "execute_result",
          "data": {
            "text/plain": [
              "t"
            ],
            "text/latex": "$\\displaystyle t$"
          },
          "metadata": {},
          "execution_count": 4
        }
      ],
      "source": [
        "t = symbols('t')"
      ]
    },
    {
      "cell_type": "markdown",
      "metadata": {
        "id": "7Iy97SnnT5Yd"
      },
      "source": [
        "If you combine symbols and numbers, you get symbolic expressions."
      ]
    },
    {
      "cell_type": "code",
      "execution_count": 5,
      "metadata": {
        "id": "-KzaA9eAT5Yd",
        "outputId": "825df1bd-86bf-4c6a-acab-77d62323a99e",
        "colab": {
          "base_uri": "https://localhost:8080/",
          "height": 38
        }
      },
      "outputs": [
        {
          "output_type": "execute_result",
          "data": {
            "text/plain": [
              "t + 1"
            ],
            "text/latex": "$\\displaystyle t + 1$"
          },
          "metadata": {},
          "execution_count": 5
        }
      ],
      "source": [
        "expr = t + 1"
      ]
    },
    {
      "cell_type": "markdown",
      "metadata": {
        "id": "qwk_JnXiT5Ye"
      },
      "source": [
        "The result is an `Add` object, which just represents the sum without trying to compute it."
      ]
    },
    {
      "cell_type": "code",
      "execution_count": 6,
      "metadata": {
        "id": "BBWzLTogT5Ye",
        "outputId": "fbee3e5e-0de4-4298-f5e0-fea07e17b253",
        "colab": {
          "base_uri": "https://localhost:8080/"
        }
      },
      "outputs": [
        {
          "output_type": "execute_result",
          "data": {
            "text/plain": [
              "sympy.core.add.Add"
            ]
          },
          "metadata": {},
          "execution_count": 6
        }
      ],
      "source": [
        "type(expr)"
      ]
    },
    {
      "cell_type": "markdown",
      "metadata": {
        "id": "h9-yBK5ET5Yf"
      },
      "source": [
        "`subs` can be used to replace a symbol with a number, which allows the addition to proceed."
      ]
    },
    {
      "cell_type": "code",
      "execution_count": 7,
      "metadata": {
        "id": "xtpg4TicT5Yf",
        "outputId": "ef41d0ac-4a1b-4dde-fb71-678758822d79",
        "colab": {
          "base_uri": "https://localhost:8080/",
          "height": 37
        }
      },
      "outputs": [
        {
          "output_type": "execute_result",
          "data": {
            "text/plain": [
              "3"
            ],
            "text/latex": "$\\displaystyle 3$"
          },
          "metadata": {},
          "execution_count": 7
        }
      ],
      "source": [
        "expr.subs(t, 2)"
      ]
    },
    {
      "cell_type": "markdown",
      "metadata": {
        "id": "BfgxuSuPT5Yf"
      },
      "source": [
        "`f` is a special class of symbol that represents a function."
      ]
    },
    {
      "cell_type": "code",
      "execution_count": 8,
      "metadata": {
        "id": "XZZLNs3CT5Yg",
        "outputId": "cc2627ea-246b-4877-e21a-b1e99756bc4f",
        "colab": {
          "base_uri": "https://localhost:8080/"
        }
      },
      "outputs": [
        {
          "output_type": "execute_result",
          "data": {
            "text/plain": [
              "f"
            ]
          },
          "metadata": {},
          "execution_count": 8
        }
      ],
      "source": [
        "f = Function('f')"
      ]
    },
    {
      "cell_type": "markdown",
      "metadata": {
        "id": "oWFOA1iKT5Yg"
      },
      "source": [
        "The type of `f` is `UndefinedFunction`"
      ]
    },
    {
      "cell_type": "code",
      "execution_count": 9,
      "metadata": {
        "id": "g-uCuE0XT5Yh",
        "outputId": "fa800bae-dfb6-4274-d064-a4beea2f9b0d",
        "colab": {
          "base_uri": "https://localhost:8080/"
        }
      },
      "outputs": [
        {
          "output_type": "execute_result",
          "data": {
            "text/plain": [
              "sympy.core.function.UndefinedFunction"
            ]
          },
          "metadata": {},
          "execution_count": 9
        }
      ],
      "source": [
        "type(f)"
      ]
    },
    {
      "cell_type": "markdown",
      "metadata": {
        "id": "A0Mkj6WdT5Yh"
      },
      "source": [
        "SymPy understands that `f(t)` means `f` evaluated at `t`, but it doesn't try to evaluate it yet."
      ]
    },
    {
      "cell_type": "code",
      "execution_count": 10,
      "metadata": {
        "id": "Ph-qKx71T5Yi",
        "outputId": "049c58e9-b4af-4ca4-d326-79a829442ed0",
        "colab": {
          "base_uri": "https://localhost:8080/",
          "height": 38
        }
      },
      "outputs": [
        {
          "output_type": "execute_result",
          "data": {
            "text/plain": [
              "f(t)"
            ],
            "text/latex": "$\\displaystyle f{\\left(t \\right)}$"
          },
          "metadata": {},
          "execution_count": 10
        }
      ],
      "source": [
        "f(t)"
      ]
    },
    {
      "cell_type": "markdown",
      "metadata": {
        "id": "SJ4t5ec_T5Yi"
      },
      "source": [
        "`diff` returns a `Derivative` object that represents the time derivative of `f`"
      ]
    },
    {
      "cell_type": "code",
      "execution_count": 11,
      "metadata": {
        "id": "QCl9SPJoT5Yj",
        "outputId": "02d9beaf-73b3-4b2a-d6cb-18c07c0a34f3",
        "colab": {
          "base_uri": "https://localhost:8080/",
          "height": 53
        }
      },
      "outputs": [
        {
          "output_type": "execute_result",
          "data": {
            "text/plain": [
              "d       \n",
              "──(f(t))\n",
              "dt      "
            ],
            "text/latex": "$\\displaystyle \\frac{d}{d t} f{\\left(t \\right)}$"
          },
          "metadata": {},
          "execution_count": 11
        }
      ],
      "source": [
        "dfdt = diff(f(t), t)"
      ]
    },
    {
      "cell_type": "code",
      "execution_count": 12,
      "metadata": {
        "id": "bzkzDkKhT5Yj",
        "outputId": "19ccbcd2-4a5e-47d1-e7f1-e8c2ab8506b2",
        "colab": {
          "base_uri": "https://localhost:8080/"
        }
      },
      "outputs": [
        {
          "output_type": "execute_result",
          "data": {
            "text/plain": [
              "sympy.core.function.Derivative"
            ]
          },
          "metadata": {},
          "execution_count": 12
        }
      ],
      "source": [
        "type(dfdt)"
      ]
    },
    {
      "cell_type": "markdown",
      "metadata": {
        "id": "6zipXc_AT5Yk"
      },
      "source": [
        "We need a symbol for `alpha`"
      ]
    },
    {
      "cell_type": "code",
      "execution_count": 13,
      "metadata": {
        "id": "alONJwk_T5Yk",
        "outputId": "a1b6718d-8016-482c-94df-5517ad860fdb",
        "colab": {
          "base_uri": "https://localhost:8080/",
          "height": 38
        }
      },
      "outputs": [
        {
          "output_type": "execute_result",
          "data": {
            "text/plain": [
              "α"
            ],
            "text/latex": "$\\displaystyle \\alpha$"
          },
          "metadata": {},
          "execution_count": 13
        }
      ],
      "source": [
        "alpha = symbols('alpha')"
      ]
    },
    {
      "cell_type": "markdown",
      "metadata": {
        "id": "4-9Zoq-yT5Yl"
      },
      "source": [
        "Now we can write the differential equation for proportional growth."
      ]
    },
    {
      "cell_type": "code",
      "execution_count": 14,
      "metadata": {
        "id": "eKYIdnAnT5Yl",
        "outputId": "45037acb-7ec5-4d60-8055-b98346b8b115",
        "colab": {
          "base_uri": "https://localhost:8080/",
          "height": 53
        }
      },
      "outputs": [
        {
          "output_type": "execute_result",
          "data": {
            "text/plain": [
              "d                \n",
              "──(f(t)) = α⋅f(t)\n",
              "dt               "
            ],
            "text/latex": "$\\displaystyle \\frac{d}{d t} f{\\left(t \\right)} = \\alpha f{\\left(t \\right)}$"
          },
          "metadata": {},
          "execution_count": 14
        }
      ],
      "source": [
        "eq1 = Eq(dfdt, alpha*f(t))"
      ]
    },
    {
      "cell_type": "markdown",
      "metadata": {
        "id": "QoPXhXv0T5Yl"
      },
      "source": [
        "And use `dsolve` to solve it.  The result is the general solution."
      ]
    },
    {
      "cell_type": "code",
      "execution_count": 15,
      "metadata": {
        "id": "qZJ1W2b-T5Ym",
        "outputId": "a89e0652-e85e-48a5-9b15-38d4b36f9632",
        "colab": {
          "base_uri": "https://localhost:8080/",
          "height": 38
        }
      },
      "outputs": [
        {
          "output_type": "execute_result",
          "data": {
            "text/plain": [
              "           α⋅t\n",
              "f(t) = C₁⋅ℯ   "
            ],
            "text/latex": "$\\displaystyle f{\\left(t \\right)} = C_{1} e^{\\alpha t}$"
          },
          "metadata": {},
          "execution_count": 15
        }
      ],
      "source": [
        "solution_eq = dsolve(eq1)"
      ]
    },
    {
      "cell_type": "markdown",
      "metadata": {
        "id": "-3aukPSRT5Ym"
      },
      "source": [
        "We can tell it's a general solution because it contains an unspecified constant, `C1`.\n",
        "\n",
        "In this example, finding the particular solution is easy: we just replace `C1` with `p_0`"
      ]
    },
    {
      "cell_type": "code",
      "execution_count": 16,
      "metadata": {
        "id": "sVPe4pYlT5Yn"
      },
      "outputs": [],
      "source": [
        "C1, p_0 = symbols('C1 p_0')"
      ]
    },
    {
      "cell_type": "code",
      "execution_count": 17,
      "metadata": {
        "id": "OCauzlkpT5Yn",
        "outputId": "2279433d-4ce2-48eb-dafa-e3d497005912",
        "colab": {
          "base_uri": "https://localhost:8080/",
          "height": 38
        }
      },
      "outputs": [
        {
          "output_type": "execute_result",
          "data": {
            "text/plain": [
              "           α⋅t\n",
              "f(t) = p₀⋅ℯ   "
            ],
            "text/latex": "$\\displaystyle f{\\left(t \\right)} = p_{0} e^{\\alpha t}$"
          },
          "metadata": {},
          "execution_count": 17
        }
      ],
      "source": [
        "particular = solution_eq.subs(C1, p_0)"
      ]
    },
    {
      "cell_type": "markdown",
      "metadata": {
        "id": "UdaT2W_vT5Yq"
      },
      "source": [
        "In the next example, we have to work a little harder to find the particular solution."
      ]
    },
    {
      "cell_type": "markdown",
      "metadata": {
        "id": "4h9s3DezT5Ys"
      },
      "source": [
        "### Solving the quadratic growth equation\n",
        "\n",
        "We'll use the (r, K) parameterization, so we'll need two more symbols:"
      ]
    },
    {
      "cell_type": "code",
      "execution_count": 18,
      "metadata": {
        "id": "Sq95dgDQT5Yt"
      },
      "outputs": [],
      "source": [
        "r, K = symbols('r K')"
      ]
    },
    {
      "cell_type": "markdown",
      "metadata": {
        "id": "DrtyvGzcT5Yu"
      },
      "source": [
        "Now we can write the differential equation."
      ]
    },
    {
      "cell_type": "code",
      "execution_count": 19,
      "metadata": {
        "id": "oN2v5rkuT5Yv",
        "outputId": "0fe1ecc9-7d73-485c-a61b-68bc65eef2ce",
        "colab": {
          "base_uri": "https://localhost:8080/",
          "height": 58
        }
      },
      "outputs": [
        {
          "output_type": "execute_result",
          "data": {
            "text/plain": [
              "d            ⎛    f(t)⎞     \n",
              "──(f(t)) = r⋅⎜1 - ────⎟⋅f(t)\n",
              "dt           ⎝     K  ⎠     "
            ],
            "text/latex": "$\\displaystyle \\frac{d}{d t} f{\\left(t \\right)} = r \\left(1 - \\frac{f{\\left(t \\right)}}{K}\\right) f{\\left(t \\right)}$"
          },
          "metadata": {},
          "execution_count": 19
        }
      ],
      "source": [
        "eq2 = Eq(diff(f(t), t), r * f(t) * (1 - f(t)/K))"
      ]
    },
    {
      "cell_type": "markdown",
      "metadata": {
        "id": "rjn_YkGTT5Yv"
      },
      "source": [
        "And solve it."
      ]
    },
    {
      "cell_type": "code",
      "execution_count": 20,
      "metadata": {
        "id": "9au3i-yyT5Yw",
        "outputId": "862ff5e3-7005-43b5-8994-cddf3fc06a2d",
        "colab": {
          "base_uri": "https://localhost:8080/",
          "height": 56
        }
      },
      "outputs": [
        {
          "output_type": "execute_result",
          "data": {
            "text/plain": [
              "           C₁⋅K + r⋅t \n",
              "        K⋅ℯ           \n",
              "f(t) = ───────────────\n",
              "        C₁⋅K + r⋅t    \n",
              "       ℯ           - 1"
            ],
            "text/latex": "$\\displaystyle f{\\left(t \\right)} = \\frac{K e^{C_{1} K + r t}}{e^{C_{1} K + r t} - 1}$"
          },
          "metadata": {},
          "execution_count": 20
        }
      ],
      "source": [
        "solution_eq = dsolve(eq2)"
      ]
    },
    {
      "cell_type": "markdown",
      "metadata": {
        "id": "W9c0txA2T5Yw"
      },
      "source": [
        "The result, `solution_eq`, contains `rhs`, which is the right-hand side of the solution."
      ]
    },
    {
      "cell_type": "code",
      "execution_count": 21,
      "metadata": {
        "id": "NjTi5_3vT5Yx",
        "outputId": "84307fd2-f481-4e2d-862e-7743829ee0a0",
        "colab": {
          "base_uri": "https://localhost:8080/",
          "height": 56
        }
      },
      "outputs": [
        {
          "output_type": "execute_result",
          "data": {
            "text/plain": [
              "    C₁⋅K + r⋅t \n",
              " K⋅ℯ           \n",
              "───────────────\n",
              " C₁⋅K + r⋅t    \n",
              "ℯ           - 1"
            ],
            "text/latex": "$\\displaystyle \\frac{K e^{C_{1} K + r t}}{e^{C_{1} K + r t} - 1}$"
          },
          "metadata": {},
          "execution_count": 21
        }
      ],
      "source": [
        "general = solution_eq.rhs"
      ]
    },
    {
      "cell_type": "markdown",
      "metadata": {
        "id": "x35o5Ie-T5Yx"
      },
      "source": [
        "We can evaluate the right-hand side at $t=0$"
      ]
    },
    {
      "cell_type": "code",
      "execution_count": 22,
      "metadata": {
        "id": "P1qz-SbAT5Yy",
        "outputId": "0bc74db2-d88c-41dd-d024-1a1ac1cd1754",
        "colab": {
          "base_uri": "https://localhost:8080/",
          "height": 56
        }
      },
      "outputs": [
        {
          "output_type": "execute_result",
          "data": {
            "text/plain": [
              "    C₁⋅K \n",
              " K⋅ℯ     \n",
              "─────────\n",
              " C₁⋅K    \n",
              "ℯ     - 1"
            ],
            "text/latex": "$\\displaystyle \\frac{K e^{C_{1} K}}{e^{C_{1} K} - 1}$"
          },
          "metadata": {},
          "execution_count": 22
        }
      ],
      "source": [
        "at_0 = general.subs(t, 0)"
      ]
    },
    {
      "cell_type": "markdown",
      "metadata": {
        "id": "KTDnc4HGT5Yy"
      },
      "source": [
        "Now we want to find the value of `C1` that makes `f(0) = p_0`.\n",
        "\n",
        "So we'll create the equation `at_0 = p_0` and solve for `C1`.  Because this is just an algebraic identity, not a differential equation, we use `solve`, not `dsolve`.\n",
        "\n",
        "The result from `solve` is a list of solutions.  In this case, [we have reason to expect only one solution](https://en.wikipedia.org/wiki/Picard%E2%80%93Lindel%C3%B6f_theorem), but we still get a list, so we have to use the bracket operator, `[0]`, to select the first one."
      ]
    },
    {
      "cell_type": "code",
      "execution_count": 23,
      "metadata": {
        "id": "lFAWJCBqT5Yz",
        "outputId": "5ea6a7f8-414c-4401-af24-41f4b984536c",
        "colab": {
          "base_uri": "https://localhost:8080/"
        }
      },
      "outputs": [
        {
          "output_type": "execute_result",
          "data": {
            "text/plain": [
              "(list, 1)"
            ]
          },
          "metadata": {},
          "execution_count": 23
        }
      ],
      "source": [
        "solutions = solve(Eq(at_0, p_0), C1)\n",
        "type(solutions), len(solutions)"
      ]
    },
    {
      "cell_type": "code",
      "execution_count": 24,
      "metadata": {
        "id": "hbTH0vn9T5Y0",
        "outputId": "03914705-a9fb-4976-ed6c-801d5c397fad",
        "colab": {
          "base_uri": "https://localhost:8080/",
          "height": 66
        }
      },
      "outputs": [
        {
          "output_type": "execute_result",
          "data": {
            "text/plain": [
              "   ⎛ -p₀  ⎞\n",
              "log⎜──────⎟\n",
              "   ⎝K - p₀⎠\n",
              "───────────\n",
              "     K     "
            ],
            "text/latex": "$\\displaystyle \\frac{\\log{\\left(- \\frac{p_{0}}{K - p_{0}} \\right)}}{K}$"
          },
          "metadata": {},
          "execution_count": 24
        }
      ],
      "source": [
        "value_of_C1 = solutions[0]"
      ]
    },
    {
      "cell_type": "markdown",
      "metadata": {
        "id": "7h8t6EBxT5Y0"
      },
      "source": [
        "Now in the general solution, we want to replace `C1` with the value of `C1` we just figured out."
      ]
    },
    {
      "cell_type": "code",
      "execution_count": 25,
      "metadata": {
        "id": "f7A2BdPST5Y0",
        "outputId": "addf58e4-3dcc-478f-9c37-32b07c9a2f3b",
        "colab": {
          "base_uri": "https://localhost:8080/",
          "height": 71
        }
      },
      "outputs": [
        {
          "output_type": "execute_result",
          "data": {
            "text/plain": [
              "             r⋅t        \n",
              "      -K⋅p₀⋅ℯ           \n",
              "────────────────────────\n",
              "         ⎛      r⋅t    ⎞\n",
              "         ⎜  p₀⋅ℯ       ⎟\n",
              "(K - p₀)⋅⎜- ─────── - 1⎟\n",
              "         ⎝   K - p₀    ⎠"
            ],
            "text/latex": "$\\displaystyle - \\frac{K p_{0} e^{r t}}{\\left(K - p_{0}\\right) \\left(- \\frac{p_{0} e^{r t}}{K - p_{0}} - 1\\right)}$"
          },
          "metadata": {},
          "execution_count": 25
        }
      ],
      "source": [
        "particular = general.subs(C1, value_of_C1)"
      ]
    },
    {
      "cell_type": "markdown",
      "metadata": {
        "id": "1_Hdxp1WT5Y1"
      },
      "source": [
        "The result is complicated, but SymPy provides a method that tries to simplify it."
      ]
    },
    {
      "cell_type": "code",
      "execution_count": 26,
      "metadata": {
        "id": "mBAXhQyVT5Y1",
        "outputId": "d8d56c5a-2a51-40e4-a0de-5c3c76dc3595",
        "colab": {
          "base_uri": "https://localhost:8080/",
          "height": 57
        }
      },
      "outputs": [
        {
          "output_type": "execute_result",
          "data": {
            "text/plain": [
              "         r⋅t    \n",
              "   K⋅p₀⋅ℯ       \n",
              "────────────────\n",
              "        r⋅t     \n",
              "K + p₀⋅ℯ    - p₀"
            ],
            "text/latex": "$\\displaystyle \\frac{K p_{0} e^{r t}}{K + p_{0} e^{r t} - p_{0}}$"
          },
          "metadata": {},
          "execution_count": 26
        }
      ],
      "source": [
        "particular = simplify(particular)"
      ]
    },
    {
      "cell_type": "markdown",
      "metadata": {
        "id": "twrXXOQoT5Y1"
      },
      "source": [
        "Often simplicity is in the eye of the beholder, but that's about as simple as this expression gets.\n",
        "\n",
        "Just to double-check, we can evaluate it at `t=0` and confirm that we get `p_0`"
      ]
    },
    {
      "cell_type": "code",
      "execution_count": 27,
      "metadata": {
        "id": "-arKRBiJT5Y2",
        "outputId": "9abe2378-53a8-4be1-9373-a4f9a18c758f",
        "colab": {
          "base_uri": "https://localhost:8080/",
          "height": 38
        }
      },
      "outputs": [
        {
          "output_type": "execute_result",
          "data": {
            "text/plain": [
              "p₀"
            ],
            "text/latex": "$\\displaystyle p_{0}$"
          },
          "metadata": {},
          "execution_count": 27
        }
      ],
      "source": [
        "particular.subs(t, 0)"
      ]
    },
    {
      "cell_type": "markdown",
      "metadata": {
        "id": "2bnmDeADT5Y2"
      },
      "source": [
        "This solution is called the [logistic function](https://en.wikipedia.org/wiki/Population_growth#Logistic_equation).\n",
        "\n",
        "In some places you'll see it written in a different form:\n",
        "\n",
        "$f(t) = \\frac{K}{1 + A e^{-rt}}$\n",
        "\n",
        "where $A = (K - p_0) / p_0$.\n",
        "\n",
        "We can use SymPy to confirm that these two forms are equivalent.  First we represent the alternative version of the logistic function:"
      ]
    },
    {
      "cell_type": "code",
      "execution_count": 28,
      "metadata": {
        "id": "_yDDT1hwT5Y2",
        "outputId": "7ff0a8da-5f78-4d90-db91-3d0633fc7518",
        "colab": {
          "base_uri": "https://localhost:8080/",
          "height": 55
        }
      },
      "outputs": [
        {
          "output_type": "execute_result",
          "data": {
            "text/plain": [
              "K - p₀\n",
              "──────\n",
              "  p₀  "
            ],
            "text/latex": "$\\displaystyle \\frac{K - p_{0}}{p_{0}}$"
          },
          "metadata": {},
          "execution_count": 28
        }
      ],
      "source": [
        "A = (K - p_0) / p_0"
      ]
    },
    {
      "cell_type": "code",
      "execution_count": 29,
      "metadata": {
        "id": "wcdF2z6vT5Y2",
        "outputId": "c83d0ba8-5535-4069-8a09-f11a6c046935",
        "colab": {
          "base_uri": "https://localhost:8080/",
          "height": 63
        }
      },
      "outputs": [
        {
          "output_type": "execute_result",
          "data": {
            "text/plain": [
              "        K         \n",
              "──────────────────\n",
              "              -r⋅t\n",
              "    (K - p₀)⋅ℯ    \n",
              "1 + ──────────────\n",
              "          p₀      "
            ],
            "text/latex": "$\\displaystyle \\frac{K}{1 + \\frac{\\left(K - p_{0}\\right) e^{- r t}}{p_{0}}}$"
          },
          "metadata": {},
          "execution_count": 29
        }
      ],
      "source": [
        "logistic = K / (1 + A * exp(-r*t))"
      ]
    },
    {
      "cell_type": "markdown",
      "metadata": {
        "id": "Oz3hFeKqT5Y3"
      },
      "source": [
        "To see whether two expressions are equivalent, we can check whether their difference simplifies to 0."
      ]
    },
    {
      "cell_type": "code",
      "execution_count": 30,
      "metadata": {
        "scrolled": true,
        "id": "BRRAt3ODT5Y3",
        "outputId": "9cafef6c-b95e-49f1-c636-795f6d465a78",
        "colab": {
          "base_uri": "https://localhost:8080/",
          "height": 37
        }
      },
      "outputs": [
        {
          "output_type": "execute_result",
          "data": {
            "text/plain": [
              "0"
            ],
            "text/latex": "$\\displaystyle 0$"
          },
          "metadata": {},
          "execution_count": 30
        }
      ],
      "source": [
        "simplify(particular - logistic)"
      ]
    },
    {
      "cell_type": "markdown",
      "metadata": {
        "id": "V2EcL6vvT5Y3"
      },
      "source": [
        "This test only works one way: if SymPy says the difference reduces to 0, the expressions are definitely equivalent (and not just numerically close).\n",
        "\n",
        "But if SymPy can't find a way to simplify the result to 0, that doesn't necessarily mean there isn't one.  Testing whether two expressions are equivalent is a surprisingly hard problem; in fact, there is no algorithm that can solve it in general."
      ]
    },
    {
      "cell_type": "markdown",
      "metadata": {
        "id": "u-8rXFPRT5Y3"
      },
      "source": [
        "### Exercises\n",
        "\n",
        "**Exercise:** Solve the quadratic growth equation using the alternative parameterization\n",
        "\n",
        "$\\frac{df(t)}{dt} = \\alpha f(t) + \\beta f^2(t) $"
      ]
    },
    {
      "cell_type": "code",
      "execution_count": 31,
      "metadata": {
        "id": "SnCW8_ZMT5Y3",
        "outputId": "ed9d1790-e169-4155-a4ea-9f47378b8853",
        "colab": {
          "base_uri": "https://localhost:8080/",
          "height": 38
        }
      },
      "outputs": [
        {
          "output_type": "execute_result",
          "data": {
            "text/plain": [
              "β"
            ],
            "text/latex": "$\\displaystyle \\beta$"
          },
          "metadata": {},
          "execution_count": 31
        }
      ],
      "source": [
        "# Solution goes here\n",
        "alpha = symbols(\"alpha\")\n",
        "beta = symbols(\"beta\")"
      ]
    },
    {
      "cell_type": "code",
      "execution_count": 32,
      "metadata": {
        "id": "bwZPDSBbT5Y3",
        "outputId": "5fb5a65f-3d5b-4a1d-a69f-84567059471d",
        "colab": {
          "base_uri": "https://localhost:8080/",
          "height": 53
        }
      },
      "outputs": [
        {
          "output_type": "execute_result",
          "data": {
            "text/plain": [
              "d                      2   \n",
              "──(f(t)) = α⋅f(t) + β⋅f (t)\n",
              "dt                         "
            ],
            "text/latex": "$\\displaystyle \\frac{d}{d t} f{\\left(t \\right)} = \\alpha f{\\left(t \\right)} + \\beta f^{2}{\\left(t \\right)}$"
          },
          "metadata": {},
          "execution_count": 32
        }
      ],
      "source": [
        "# We can use the f(t) already defined\n",
        "eq = Eq(diff(f(t), t), alpha*f(t) + beta*f(t)**2)"
      ]
    },
    {
      "cell_type": "code",
      "execution_count": 33,
      "metadata": {
        "id": "GHyasWpLT5Y4",
        "outputId": "db97ca33-9d48-4a15-967c-c81fbaaf0e23",
        "colab": {
          "base_uri": "https://localhost:8080/",
          "height": 62
        }
      },
      "outputs": [
        {
          "output_type": "execute_result",
          "data": {
            "text/plain": [
              "             α⋅(C₁ + t)   \n",
              "          α⋅ℯ             \n",
              "f(t) = ───────────────────\n",
              "         ⎛     α⋅(C₁ + t)⎞\n",
              "       β⋅⎝1 - ℯ          ⎠"
            ],
            "text/latex": "$\\displaystyle f{\\left(t \\right)} = \\frac{\\alpha e^{\\alpha \\left(C_{1} + t\\right)}}{\\beta \\left(1 - e^{\\alpha \\left(C_{1} + t\\right)}\\right)}$"
          },
          "metadata": {},
          "execution_count": 33
        }
      ],
      "source": [
        "# Using dsolve from sympy\n",
        "soln = dsolve(eq)"
      ]
    },
    {
      "cell_type": "code",
      "execution_count": 34,
      "metadata": {
        "id": "RJr5ayY5T5Y4",
        "outputId": "e80327e6-d299-4e3e-f3f4-88955107bacf",
        "colab": {
          "base_uri": "https://localhost:8080/",
          "height": 62
        }
      },
      "outputs": [
        {
          "output_type": "execute_result",
          "data": {
            "text/plain": [
              "      α⋅(C₁ + t)   \n",
              "   α⋅ℯ             \n",
              "───────────────────\n",
              "  ⎛     α⋅(C₁ + t)⎞\n",
              "β⋅⎝1 - ℯ          ⎠"
            ],
            "text/latex": "$\\displaystyle \\frac{\\alpha e^{\\alpha \\left(C_{1} + t\\right)}}{\\beta \\left(1 - e^{\\alpha \\left(C_{1} + t\\right)}\\right)}$"
          },
          "metadata": {},
          "execution_count": 34
        }
      ],
      "source": [
        "# Get the general solution from the right-hand side of our solution above\n",
        "general_soln = soln.rhs"
      ]
    },
    {
      "cell_type": "code",
      "execution_count": 35,
      "metadata": {
        "id": "Z4BG6MUwT5Y4",
        "outputId": "2f6a03a6-0c6b-4bef-f92e-64915d19f3f3",
        "colab": {
          "base_uri": "https://localhost:8080/",
          "height": 59
        }
      },
      "outputs": [
        {
          "output_type": "execute_result",
          "data": {
            "text/plain": [
              "      C₁⋅α   \n",
              "   α⋅ℯ       \n",
              "─────────────\n",
              "  ⎛     C₁⋅α⎞\n",
              "β⋅⎝1 - ℯ    ⎠"
            ],
            "text/latex": "$\\displaystyle \\frac{\\alpha e^{C_{1} \\alpha}}{\\beta \\left(1 - e^{C_{1} \\alpha}\\right)}$"
          },
          "metadata": {},
          "execution_count": 35
        }
      ],
      "source": [
        "# Solution goes here\n",
        "initial = general_soln.subs(t, 0)"
      ]
    },
    {
      "cell_type": "code",
      "execution_count": 36,
      "metadata": {
        "id": "u0CDc7tJT5Y5",
        "outputId": "a8e9d776-ebf5-426c-baba-ee918b703406",
        "colab": {
          "base_uri": "https://localhost:8080/",
          "height": 80
        }
      },
      "outputs": [
        {
          "output_type": "execute_result",
          "data": {
            "text/plain": [
              "⎡   ⎛  β⋅p₀  ⎞⎤\n",
              "⎢log⎜────────⎟⎥\n",
              "⎢   ⎝α + β⋅p₀⎠⎥\n",
              "⎢─────────────⎥\n",
              "⎣      α      ⎦"
            ],
            "text/latex": "$\\displaystyle \\left[ \\frac{\\log{\\left(\\frac{\\beta p_{0}}{\\alpha + \\beta p_{0}} \\right)}}{\\alpha}\\right]$"
          },
          "metadata": {},
          "execution_count": 36
        }
      ],
      "source": [
        "# Using the p_0 and C1 symbols from previously\n",
        "solutions = solve(Eq(initial, p_0), C1)"
      ]
    },
    {
      "cell_type": "code",
      "execution_count": 37,
      "metadata": {
        "id": "YHRxs09AT5Y5"
      },
      "outputs": [],
      "source": [
        "# Solution goes here"
      ]
    },
    {
      "cell_type": "markdown",
      "metadata": {
        "id": "0PJSTaH9T5Y5"
      },
      "source": [
        "**Exercise:**  Use [WolframAlpha](https://www.wolframalpha.com/) to solve the quadratic growth model, using either or both forms of parameterization:\n",
        "\n",
        "    df(t) / dt = alpha f(t) + beta f(t)^2\n",
        "\n",
        "or\n",
        "\n",
        "    df(t) / dt = r f(t) (1 - f(t)/K)\n",
        "\n",
        "Find the general solution and also the particular solution where `f(0) = p_0`."
      ]
    },
    {
      "cell_type": "markdown",
      "source": [
        "I was able to plug in the first equation version into WolframAlpha, getting the [following general solution](https://www.wolframalpha.com/input?i=df%28t%29+%2F+dt+%3D+alpha+f%28t%29+%2B+beta+f%28t%29%5E2), which matches the general solution above\n",
        "\n",
        "\n",
        "\n",
        "\n",
        "\n",
        "\n"
      ],
      "metadata": {
        "id": "qYUUURMx3BxL"
      }
    },
    {
      "cell_type": "markdown",
      "source": [
        "My particular solution plugged into WolframAlpha was this: ![Screenshot 2023-06-26 at 6.44.46 PM.png](data:image/png;base64,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),"
      ],
      "metadata": {
        "id": "aS5_pUZt4SHZ"
      }
    },
    {
      "cell_type": "markdown",
      "source": [
        "Which looks to be a re-written version of our particular solution in `solutions`"
      ],
      "metadata": {
        "id": "Wpok_4oa4iRs"
      }
    }
  ],
  "metadata": {
    "kernelspec": {
      "display_name": "Python 3",
      "language": "python",
      "name": "python3"
    },
    "language_info": {
      "codemirror_mode": {
        "name": "ipython",
        "version": 3
      },
      "file_extension": ".py",
      "mimetype": "text/x-python",
      "name": "python",
      "nbconvert_exporter": "python",
      "pygments_lexer": "ipython3",
      "version": "3.7.3"
    },
    "colab": {
      "provenance": [],
      "include_colab_link": true
    }
  },
  "nbformat": 4,
  "nbformat_minor": 0
}